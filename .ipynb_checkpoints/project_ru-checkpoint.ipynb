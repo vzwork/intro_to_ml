{
 "cells": [
  {
   "cell_type": "markdown",
   "metadata": {},
   "source": [
    "# План"
   ]
  },
  {
   "cell_type": "markdown",
   "metadata": {},
   "source": [
    "1. Изучение данных\n",
    "2. Деление данных на обучающие, валидационные и тестовые выборки\n",
    "3. Тестирование разных моделей, и гиперпараметров. Короткий вывод после каждого исследования\n",
    "4. Проверить качество модели на тестовой выборке\n",
    "5. Проверка на вменяемость"
   ]
  },
  {
   "cell_type": "markdown",
   "metadata": {},
   "source": [
    "# Изучение данных"
   ]
  },
  {
   "cell_type": "code",
   "execution_count": 1,
   "metadata": {},
   "outputs": [],
   "source": [
    "import pandas as pd\n",
    "import numpy as np\n",
    "import matplotlib.pyplot as plt\n",
    "from sklearn.tree import DecisionTreeClassifier\n",
    "from sklearn.ensemble import RandomForestClassifier\n",
    "from sklearn.linear_model import LogisticRegression\n",
    "from sklearn.metrics import accuracy_score\n",
    "from sklearn.model_selection import train_test_split\n",
    "\n",
    "import time\n",
    "\n",
    "import os"
   ]
  },
  {
   "cell_type": "code",
   "execution_count": 2,
   "metadata": {},
   "outputs": [],
   "source": [
    "local_path_df_user_behavior = './datasets/users_behavior.csv'\n",
    "web_path_df_user_behavior = '/datasets/user_behavior.csv'"
   ]
  },
  {
   "cell_type": "code",
   "execution_count": 3,
   "metadata": {},
   "outputs": [],
   "source": [
    "if os.path.exists(local_path_df_user_behavior):\n",
    "  df = pd.read_csv(local_path_df_user_behavior)\n",
    "elif os.path.exists(web_path_df_user_behavior):\n",
    "  df = pd.read_csv(web_path_df_user_behavior)"
   ]
  },
  {
   "cell_type": "code",
   "execution_count": 4,
   "metadata": {},
   "outputs": [
    {
     "name": "stdout",
     "output_type": "stream",
     "text": [
      "<class 'pandas.core.frame.DataFrame'>\n",
      "RangeIndex: 3214 entries, 0 to 3213\n",
      "Data columns (total 5 columns):\n",
      " #   Column    Non-Null Count  Dtype  \n",
      "---  ------    --------------  -----  \n",
      " 0   calls     3214 non-null   float64\n",
      " 1   minutes   3214 non-null   float64\n",
      " 2   messages  3214 non-null   float64\n",
      " 3   mb_used   3214 non-null   float64\n",
      " 4   is_ultra  3214 non-null   int64  \n",
      "dtypes: float64(4), int64(1)\n",
      "memory usage: 125.7 KB\n"
     ]
    }
   ],
   "source": [
    "df.info()"
   ]
  },
  {
   "cell_type": "code",
   "execution_count": 5,
   "metadata": {},
   "outputs": [
    {
     "data": {
      "text/html": [
       "<div>\n",
       "<style scoped>\n",
       "    .dataframe tbody tr th:only-of-type {\n",
       "        vertical-align: middle;\n",
       "    }\n",
       "\n",
       "    .dataframe tbody tr th {\n",
       "        vertical-align: top;\n",
       "    }\n",
       "\n",
       "    .dataframe thead th {\n",
       "        text-align: right;\n",
       "    }\n",
       "</style>\n",
       "<table border=\"1\" class=\"dataframe\">\n",
       "  <thead>\n",
       "    <tr style=\"text-align: right;\">\n",
       "      <th></th>\n",
       "      <th>calls</th>\n",
       "      <th>minutes</th>\n",
       "      <th>messages</th>\n",
       "      <th>mb_used</th>\n",
       "      <th>is_ultra</th>\n",
       "    </tr>\n",
       "  </thead>\n",
       "  <tbody>\n",
       "    <tr>\n",
       "      <th>0</th>\n",
       "      <td>40.0</td>\n",
       "      <td>311.90</td>\n",
       "      <td>83.0</td>\n",
       "      <td>19915.42</td>\n",
       "      <td>0</td>\n",
       "    </tr>\n",
       "    <tr>\n",
       "      <th>1</th>\n",
       "      <td>85.0</td>\n",
       "      <td>516.75</td>\n",
       "      <td>56.0</td>\n",
       "      <td>22696.96</td>\n",
       "      <td>0</td>\n",
       "    </tr>\n",
       "    <tr>\n",
       "      <th>2</th>\n",
       "      <td>77.0</td>\n",
       "      <td>467.66</td>\n",
       "      <td>86.0</td>\n",
       "      <td>21060.45</td>\n",
       "      <td>0</td>\n",
       "    </tr>\n",
       "    <tr>\n",
       "      <th>3</th>\n",
       "      <td>106.0</td>\n",
       "      <td>745.53</td>\n",
       "      <td>81.0</td>\n",
       "      <td>8437.39</td>\n",
       "      <td>1</td>\n",
       "    </tr>\n",
       "    <tr>\n",
       "      <th>4</th>\n",
       "      <td>66.0</td>\n",
       "      <td>418.74</td>\n",
       "      <td>1.0</td>\n",
       "      <td>14502.75</td>\n",
       "      <td>0</td>\n",
       "    </tr>\n",
       "  </tbody>\n",
       "</table>\n",
       "</div>"
      ],
      "text/plain": [
       "   calls  minutes  messages   mb_used  is_ultra\n",
       "0   40.0   311.90      83.0  19915.42         0\n",
       "1   85.0   516.75      56.0  22696.96         0\n",
       "2   77.0   467.66      86.0  21060.45         0\n",
       "3  106.0   745.53      81.0   8437.39         1\n",
       "4   66.0   418.74       1.0  14502.75         0"
      ]
     },
     "execution_count": 5,
     "metadata": {},
     "output_type": "execute_result"
    }
   ],
   "source": [
    "df.head()"
   ]
  },
  {
   "cell_type": "code",
   "execution_count": 6,
   "metadata": {},
   "outputs": [
    {
     "data": {
      "image/png": "[encoded data removed]",
      "text/plain": [
       "<Figure size 432x288 with 1 Axes>"
      ]
     },
     "metadata": {
      "needs_background": "light"
     },
     "output_type": "display_data"
    }
   ],
   "source": [
    "df['calls'].hist(bins=20)\n",
    "plt.show()"
   ]
  },
  {
   "cell_type": "code",
   "execution_count": 7,
   "metadata": {},
   "outputs": [
    {
     "data": {
      "image/png": "[encoded data removed]",
      "text/plain": [
       "<Figure size 432x288 with 1 Axes>"
      ]
     },
     "metadata": {
      "needs_background": "light"
     },
     "output_type": "display_data"
    }
   ],
   "source": [
    "df['minutes'].hist(bins=20)\n",
    "plt.show()"
   ]
  },
  {
   "cell_type": "code",
   "execution_count": 8,
   "metadata": {},
   "outputs": [
    {
     "data": {
      "image/png": "[encoded data removed]",
      "text/plain": [
       "<Figure size 432x288 with 1 Axes>"
      ]
     },
     "metadata": {
      "needs_background": "light"
     },
     "output_type": "display_data"
    }
   ],
   "source": [
    "df['messages'].hist(bins=20)\n",
    "plt.show()"
   ]
  },
  {
   "cell_type": "code",
   "execution_count": 9,
   "metadata": {},
   "outputs": [
    {
     "data": {
      "image/png": "[encoded data removed]",
      "text/plain": [
       "<Figure size 432x288 with 1 Axes>"
      ]
     },
     "metadata": {
      "needs_background": "light"
     },
     "output_type": "display_data"
    }
   ],
   "source": [
    "df['mb_used'].hist(bins=20)\n",
    "plt.show()"
   ]
  },
  {
   "cell_type": "markdown",
   "metadata": {},
   "source": [
    "В описании проэкта написанно, что не надо очищать данные, в графиках сверху видно что есть данные каторые сильно повлияют на 'std' но ме будем верить данным"
   ]
  },
  {
   "cell_type": "markdown",
   "metadata": {},
   "source": [
    "# Деление данных на обучающие, валидационные и тестовые выборки"
   ]
  },
  {
   "cell_type": "code",
   "execution_count": 10,
   "metadata": {},
   "outputs": [],
   "source": [
    "features = df.drop(['is_ultra'], axis=1)\n",
    "target = df['is_ultra']\n",
    "\n",
    "features_train, features_test, target_train, target_test  = train_test_split(\n",
    "  features, target, test_size=0.2, random_state=12345)"
   ]
  },
  {
   "cell_type": "code",
   "execution_count": 11,
   "metadata": {},
   "outputs": [],
   "source": [
    "features_train, features_valid, target_train, target_valid = train_test_split(\n",
    "  features_test, target_test, test_size=0.25, random_state=12345)"
   ]
  },
  {
   "cell_type": "markdown",
   "metadata": {},
   "source": [
    "# Тестирование разных моделей, и гиперпараметров. Короткий вывод после каждого исследования"
   ]
  },
  {
   "cell_type": "markdown",
   "metadata": {},
   "source": [
    "### DecisionTreeClassifier"
   ]
  },
  {
   "cell_type": "code",
   "execution_count": 12,
   "metadata": {},
   "outputs": [
    {
     "name": "stdout",
     "output_type": "stream",
     "text": [
      "DecisionTreeClassifier depth:  1  precision: 0.73292  time: 0.00685\n",
      "DecisionTreeClassifier depth:  2  precision: 0.74534  time: 0.00394\n",
      "DecisionTreeClassifier depth:  3  precision: 0.74534  time: 0.00429\n",
      "DecisionTreeClassifier depth:  4  precision: 0.74534  time: 0.00435\n",
      "DecisionTreeClassifier depth:  5  precision: 0.74534  time: 0.00528\n",
      "DecisionTreeClassifier depth:  6  precision: 0.75776  time: 0.00411\n",
      "DecisionTreeClassifier depth:  7  precision: 0.75776  time: 0.00416\n",
      "DecisionTreeClassifier depth:  8  precision: 0.75776  time: 0.00424\n",
      "DecisionTreeClassifier depth:  9  precision: 0.77640  time: 0.00392\n",
      "DecisionTreeClassifier depth: 10  precision: 0.76398  time: 0.00394\n"
     ]
    }
   ],
   "source": [
    "model_DecisionTreeClassifier = None\n",
    "precision_DecisionTreeClassifier = 0\n",
    "tree_depths = range(1, 11)\n",
    "for tree_depth in tree_depths:\n",
    "  start = time.time()\n",
    "  model = DecisionTreeClassifier(random_state=12345, max_depth=tree_depth)\n",
    "  model.fit(features_train, target_train)\n",
    "  result = model.predict(features_valid)\n",
    "  precision = accuracy_score(target_valid, result)\n",
    "  end = time.time()\n",
    "  if precision > precision_DecisionTreeClassifier:\n",
    "    precision_DecisionTreeClassifier = precision\n",
    "    model_DecisionTreeClassifier = model\n",
    "  print(\"DecisionTreeClassifier depth:{:3d}  precision: {:.5f}  time: {:.5f}\".format(tree_depth, precision, (end-start)))"
   ]
  },
  {
   "cell_type": "markdown",
   "metadata": {},
   "source": [
    "Best precision = 0.77640 </br>\n",
    "Time = 0.00538 </br>\n",
    "DecisionTreeClassifier depth = 9 </br>"
   ]
  },
  {
   "cell_type": "markdown",
   "metadata": {},
   "source": [
    "### RandomForestClassifier"
   ]
  },
  {
   "cell_type": "code",
   "execution_count": 13,
   "metadata": {},
   "outputs": [
    {
     "name": "stdout",
     "output_type": "stream",
     "text": [
      "RandomForestClassifier trees: 10 precision: 0.77640  time: 0.02286\n",
      "RandomForestClassifier trees: 20 precision: 0.75155  time: 0.03899\n",
      "RandomForestClassifier trees: 30 precision: 0.74534  time: 0.05281\n",
      "RandomForestClassifier trees: 40 precision: 0.73913  time: 0.06754\n",
      "RandomForestClassifier trees: 50 precision: 0.74534  time: 0.11039\n"
     ]
    }
   ],
   "source": [
    "tree_counts = range(10, 51, 10)\n",
    "model_RandomForestClassifier = None\n",
    "precision_RandomForestClassifier = 0\n",
    "for tree_count in tree_counts:\n",
    "  start = time.time()\n",
    "  model = RandomForestClassifier(random_state=12345, n_estimators=tree_count)\n",
    "  model.fit(features_train, target_train)\n",
    "  result = model.predict(features_valid)\n",
    "  precision = accuracy_score(target_valid, result)\n",
    "  end = time.time()\n",
    "  if precision > precision_RandomForestClassifier:\n",
    "    precision_RandomForestClassifier = precision\n",
    "    model_RandomForestClassifier = model\n",
    "  print(\"RandomForestClassifier trees:{:3d} precision: {:.5f}  time: {:.5f}\".format(tree_count, precision, (end-start)))"
   ]
  },
  {
   "cell_type": "markdown",
   "metadata": {},
   "source": [
    "Best precision = 0.77640 </br>\n",
    "Time = 0.03428 </br>\n",
    "RandomForestClassifier </br>"
   ]
  },
  {
   "cell_type": "markdown",
   "metadata": {},
   "source": [
    "### LogisticRegression"
   ]
  },
  {
   "cell_type": "code",
   "execution_count": 15,
   "metadata": {},
   "outputs": [
    {
     "name": "stdout",
     "output_type": "stream",
     "text": [
      "LogisticRegression precision: 0.74534  time: 0.02527\n"
     ]
    }
   ],
   "source": [
    "start = time.time()\n",
    "model_LogisticRegression = LogisticRegression(random_state=12345)\n",
    "model_LogisticRegression.fit(features_train, target_train)\n",
    "result = model.predict(features_valid)\n",
    "precision = accuracy_score(target_valid, result)\n",
    "end = time.time()\n",
    "print(\"LogisticRegression precision: {:.5f}  time: {:.5f}\".format(precision, (end-start))) "
   ]
  },
  {
   "cell_type": "markdown",
   "metadata": {},
   "source": [
    "Precision = 0.72050 </br>\n",
    "Time = 0.01336 </br>\n",
    "LogisticRegression"
   ]
  },
  {
   "cell_type": "markdown",
   "metadata": {},
   "source": [
    "### Описание"
   ]
  },
  {
   "cell_type": "markdown",
   "metadata": {},
   "source": [
    "Видно что 'DecisionTreeClassifier' одинаково точен, но он еще и быстрее чем 'RandomForestClassifier'"
   ]
  },
  {
   "cell_type": "markdown",
   "metadata": {},
   "source": [
    "# Проверить качество модели на тестовой выборке"
   ]
  },
  {
   "cell_type": "markdown",
   "metadata": {},
   "source": [
    "также по скольку 'DecisionTreeClassifier' был быстрее и одинаково точен ме будем использовать его"
   ]
  },
  {
   "cell_type": "code",
   "execution_count": 16,
   "metadata": {},
   "outputs": [
    {
     "name": "stdout",
     "output_type": "stream",
     "text": [
      "The accuracy of the test is 0.882\n"
     ]
    }
   ],
   "source": [
    "test_result = model_DecisionTreeClassifier.predict(features_test)\n",
    "test_precision = accuracy_score(target_test, test_result)\n",
    "print(\"The accuracy of the test is {:.3f}\".format(test_precision))"
   ]
  },
  {
   "cell_type": "markdown",
   "metadata": {},
   "source": [
    "# Проверка на вменяемость"
   ]
  },
  {
   "cell_type": "code",
   "execution_count": 17,
   "metadata": {},
   "outputs": [
    {
     "name": "stdout",
     "output_type": "stream",
     "text": [
      "0.7142857142857143\n"
     ]
    }
   ],
   "source": [
    "model = DecisionTreeClassifier()\n",
    "model.fit(features_train, target_train)\n",
    "result = model.predict(features_valid)\n",
    "precision = accuracy_score(target_valid, result)\n",
    "print(precision)"
   ]
  },
  {
   "cell_type": "markdown",
   "metadata": {},
   "source": [
    "мы видем что наша модель была более точна чем модель с нулевым 'random_state'"
   ]
  }
 ],
 "metadata": {
  "kernelspec": {
   "display_name": "Python 3 (ipykernel)",
   "language": "python",
   "name": "python3"
  },
  "language_info": {
   "codemirror_mode": {
    "name": "ipython",
    "version": 3
   },
   "file_extension": ".py",
   "mimetype": "text/x-python",
   "name": "python",
   "nbconvert_exporter": "python",
   "pygments_lexer": "ipython3",
   "version": "3.10.10"
  },
  "vscode": {
   "interpreter": {
    "hash": "31f2aee4e71d21fbe5cf8b01ff0e069b9275f58929596ceb00d14d90e3e16cd6"
   }
  }
 },
 "nbformat": 4,
 "nbformat_minor": 2
}
