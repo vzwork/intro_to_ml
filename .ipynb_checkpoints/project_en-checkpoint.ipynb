{
 "cells": [
  {
   "cell_type": "markdown",
   "metadata": {},
   "source": [
    "# Project Plan"
   ]
  },
  {
   "cell_type": "markdown",
   "metadata": {},
   "source": [
    "- Project Plan\n",
    "- Project Description\n",
    "- Data Load\n",
    "- Data Preprocessing\n",
    "- Model Selection\n",
    "- Model Testing\n",
    "- Resulsts"
   ]
  },
  {
   "cell_type": "markdown",
   "metadata": {},
   "source": [
    "# Project Description"
   ]
  },
  {
   "cell_type": "markdown",
   "metadata": {},
   "source": [
    "- Some phone service provider is introducing two new packages.\n",
    "- We have data with legacy users and new adopters.\n",
    "- Our tasks is to develop an algorithm that will predict the right suggested package."
   ]
  },
  {
   "cell_type": "markdown",
   "metadata": {},
   "source": [
    "# Data Load"
   ]
  },
  {
   "cell_type": "code",
   "execution_count": 1,
   "metadata": {},
   "outputs": [],
   "source": [
    "import os\n",
    "import time\n",
    "\n",
    "import pandas as pd\n",
    "import numpy as np\n",
    "from scipy import stats as st\n",
    "import matplotlib.pyplot as plt\n",
    "import seaborn as sns\n",
    "\n",
    "from sklearn.model_selection import train_test_split\n",
    "from sklearn.preprocessing import StandardScaler\n",
    "from sklearn.metrics import accuracy_score\n",
    "from sklearn.metrics import confusion_matrix\n",
    "\n",
    "from sklearn.linear_model import LogisticRegression\n",
    "from sklearn.tree import DecisionTreeClassifier\n",
    "from sklearn.ensemble import RandomForestClassifier\n",
    "from sklearn.model_selection import GridSearchCV"
   ]
  },
  {
   "cell_type": "code",
   "execution_count": 2,
   "metadata": {},
   "outputs": [],
   "source": [
    "RANDOM_STATE = 2023"
   ]
  },
  {
   "cell_type": "code",
   "execution_count": 3,
   "metadata": {},
   "outputs": [],
   "source": [
    "PATH_DATASETS = os.path.join(os.getcwd(), 'datasets')"
   ]
  },
  {
   "cell_type": "code",
   "execution_count": 4,
   "metadata": {},
   "outputs": [],
   "source": [
    "PATH_USERS_BEHAVIOR = os.path.join(PATH_DATASETS, 'users_behavior.csv')"
   ]
  },
  {
   "cell_type": "code",
   "execution_count": 5,
   "metadata": {},
   "outputs": [],
   "source": [
    "df = pd.read_csv(PATH_USERS_BEHAVIOR)"
   ]
  },
  {
   "cell_type": "code",
   "execution_count": 6,
   "metadata": {},
   "outputs": [
    {
     "name": "stdout",
     "output_type": "stream",
     "text": [
      "<class 'pandas.core.frame.DataFrame'>\n",
      "RangeIndex: 3214 entries, 0 to 3213\n",
      "Data columns (total 5 columns):\n",
      " #   Column    Non-Null Count  Dtype  \n",
      "---  ------    --------------  -----  \n",
      " 0   calls     3214 non-null   float64\n",
      " 1   minutes   3214 non-null   float64\n",
      " 2   messages  3214 non-null   float64\n",
      " 3   mb_used   3214 non-null   float64\n",
      " 4   is_ultra  3214 non-null   int64  \n",
      "dtypes: float64(4), int64(1)\n",
      "memory usage: 125.7 KB\n"
     ]
    }
   ],
   "source": [
    "df.info()"
   ]
  },
  {
   "cell_type": "code",
   "execution_count": 7,
   "metadata": {},
   "outputs": [
    {
     "data": {
      "text/html": [
       "<div>\n",
       "<style scoped>\n",
       "    .dataframe tbody tr th:only-of-type {\n",
       "        vertical-align: middle;\n",
       "    }\n",
       "\n",
       "    .dataframe tbody tr th {\n",
       "        vertical-align: top;\n",
       "    }\n",
       "\n",
       "    .dataframe thead th {\n",
       "        text-align: right;\n",
       "    }\n",
       "</style>\n",
       "<table border=\"1\" class=\"dataframe\">\n",
       "  <thead>\n",
       "    <tr style=\"text-align: right;\">\n",
       "      <th></th>\n",
       "      <th>calls</th>\n",
       "      <th>minutes</th>\n",
       "      <th>messages</th>\n",
       "      <th>mb_used</th>\n",
       "      <th>is_ultra</th>\n",
       "    </tr>\n",
       "  </thead>\n",
       "  <tbody>\n",
       "    <tr>\n",
       "      <th>0</th>\n",
       "      <td>40.0</td>\n",
       "      <td>311.90</td>\n",
       "      <td>83.0</td>\n",
       "      <td>19915.42</td>\n",
       "      <td>0</td>\n",
       "    </tr>\n",
       "    <tr>\n",
       "      <th>1</th>\n",
       "      <td>85.0</td>\n",
       "      <td>516.75</td>\n",
       "      <td>56.0</td>\n",
       "      <td>22696.96</td>\n",
       "      <td>0</td>\n",
       "    </tr>\n",
       "    <tr>\n",
       "      <th>2</th>\n",
       "      <td>77.0</td>\n",
       "      <td>467.66</td>\n",
       "      <td>86.0</td>\n",
       "      <td>21060.45</td>\n",
       "      <td>0</td>\n",
       "    </tr>\n",
       "    <tr>\n",
       "      <th>3</th>\n",
       "      <td>106.0</td>\n",
       "      <td>745.53</td>\n",
       "      <td>81.0</td>\n",
       "      <td>8437.39</td>\n",
       "      <td>1</td>\n",
       "    </tr>\n",
       "    <tr>\n",
       "      <th>4</th>\n",
       "      <td>66.0</td>\n",
       "      <td>418.74</td>\n",
       "      <td>1.0</td>\n",
       "      <td>14502.75</td>\n",
       "      <td>0</td>\n",
       "    </tr>\n",
       "  </tbody>\n",
       "</table>\n",
       "</div>"
      ],
      "text/plain": [
       "   calls  minutes  messages   mb_used  is_ultra\n",
       "0   40.0   311.90      83.0  19915.42         0\n",
       "1   85.0   516.75      56.0  22696.96         0\n",
       "2   77.0   467.66      86.0  21060.45         0\n",
       "3  106.0   745.53      81.0   8437.39         1\n",
       "4   66.0   418.74       1.0  14502.75         0"
      ]
     },
     "execution_count": 7,
     "metadata": {},
     "output_type": "execute_result"
    }
   ],
   "source": [
    "df.head()"
   ]
  },
  {
   "cell_type": "markdown",
   "metadata": {},
   "source": [
    "# Data Preprocessing"
   ]
  },
  {
   "cell_type": "markdown",
   "metadata": {},
   "source": [
    "- I like to address \"data leakage\" immediately.\n",
    "- I split data into train/valid/test datasets.\n",
    "- Only after, I do EDA and build a preprocessing pipeline."
   ]
  },
  {
   "cell_type": "code",
   "execution_count": 8,
   "metadata": {},
   "outputs": [],
   "source": [
    "train, valid_test = train_test_split(df, test_size=0.3, random_state=RANDOM_STATE)"
   ]
  },
  {
   "cell_type": "code",
   "execution_count": 9,
   "metadata": {},
   "outputs": [],
   "source": [
    "valid, test = train_test_split(valid_test, test_size=0.5, random_state=RANDOM_STATE)"
   ]
  },
  {
   "cell_type": "code",
   "execution_count": 10,
   "metadata": {},
   "outputs": [
    {
     "name": "stdout",
     "output_type": "stream",
     "text": [
      "<class 'pandas.core.frame.DataFrame'>\n",
      "Index: 2249 entries, 1485 to 855\n",
      "Data columns (total 5 columns):\n",
      " #   Column    Non-Null Count  Dtype  \n",
      "---  ------    --------------  -----  \n",
      " 0   calls     2249 non-null   float64\n",
      " 1   minutes   2249 non-null   float64\n",
      " 2   messages  2249 non-null   float64\n",
      " 3   mb_used   2249 non-null   float64\n",
      " 4   is_ultra  2249 non-null   int64  \n",
      "dtypes: float64(4), int64(1)\n",
      "memory usage: 105.4 KB\n"
     ]
    }
   ],
   "source": [
    "train.info()"
   ]
  },
  {
   "cell_type": "markdown",
   "metadata": {},
   "source": [
    "<div style=\"background: DeepSkyBlue; padding: 2rem;\">\n",
    "    We only have quantitative data, we can inspect distribution, calculate Standard Deviation and get rid of outliers.\n",
    "</div>"
   ]
  },
  {
   "cell_type": "code",
   "execution_count": 11,
   "metadata": {},
   "outputs": [
    {
     "name": "stdout",
     "output_type": "stream",
     "text": [
      "Calls standard deviation: 33.12\n",
      "Calls three sigma range: [-36.56, 162.16]\n"
     ]
    }
   ],
   "source": [
    "std_calls = train.calls.std()\n",
    "mean_calls = train.calls.mean()\n",
    "three_sigma_range_calls = (mean_calls - 3 * std_calls, mean_calls + 3 * std_calls)\n",
    "\n",
    "print('Calls standard deviation: {:.2f}'.format(std_calls))\n",
    "print('Calls three sigma range: [{:.2f}, {:.2f}]'.format(*three_sigma_range_calls))"
   ]
  },
  {
   "cell_type": "code",
   "execution_count": 12,
   "metadata": {},
   "outputs": [
    {
     "data": {
      "image/png": "[encoded data removed]",
      "text/plain": [
       "<Figure size 640x480 with 1 Axes>"
      ]
     },
     "metadata": {},
     "output_type": "display_data"
    }
   ],
   "source": [
    "train.calls.hist()\n",
    "plt.axvline(three_sigma_range_calls[0], color='r', linestyle='--')\n",
    "plt.axvline(three_sigma_range_calls[1], color='r', linestyle='--')\n",
    "plt.title('Calls distribution')\n",
    "plt.show()"
   ]
  },
  {
   "cell_type": "markdown",
   "metadata": {},
   "source": [
    "<div style=\"background: DeepSkyBlue; padding: 2rem;\">\n",
    "    Although the values on the right are considered outliers due to three-sigma-rule, we will classify them as true outliers because they follow the normal distribution.\n",
    "</div>"
   ]
  },
  {
   "cell_type": "code",
   "execution_count": 13,
   "metadata": {},
   "outputs": [
    {
     "name": "stdout",
     "output_type": "stream",
     "text": [
      "Minutes standard deviation: 233.81\n",
      "Minutes three sigma range: [-264.24, 1138.62]\n"
     ]
    }
   ],
   "source": [
    "std_minutes = train.minutes.std()\n",
    "mean_minutes = train.minutes.mean()\n",
    "three_sigma_range_minutes = (mean_minutes - 3 * std_minutes, mean_minutes + 3 * std_minutes)\n",
    "\n",
    "print('Minutes standard deviation: {:.2f}'.format(std_minutes))\n",
    "print('Minutes three sigma range: [{:.2f}, {:.2f}]'.format(*three_sigma_range_minutes))"
   ]
  },
  {
   "cell_type": "code",
   "execution_count": 14,
   "metadata": {},
   "outputs": [
    {
     "data": {
      "image/png": "[encoded data removed]",
      "text/plain": [
       "<Figure size 640x480 with 1 Axes>"
      ]
     },
     "metadata": {},
     "output_type": "display_data"
    }
   ],
   "source": [
    "train.minutes.hist()\n",
    "plt.axvline(three_sigma_range_minutes[0], color='r', linestyle='--')\n",
    "plt.axvline(three_sigma_range_minutes[1], color='r', linestyle='--')\n",
    "plt.title('Minutes distribution')\n",
    "plt.show()"
   ]
  },
  {
   "cell_type": "markdown",
   "metadata": {},
   "source": [
    "<div style=\"background: DeepSkyBlue; padding: 2rem;\">\n",
    "    Although the values on the right are considered outliers due to three-sigma-rule, we will classify them as true outliers because they follow the normal distribution.\n",
    "</div>"
   ]
  },
  {
   "cell_type": "code",
   "execution_count": 15,
   "metadata": {},
   "outputs": [
    {
     "name": "stdout",
     "output_type": "stream",
     "text": [
      "Messages standard deviation: 36.17\n",
      "Messages three sigma range: [-70.44, 146.60]\n"
     ]
    }
   ],
   "source": [
    "std_messages = train.messages.std()\n",
    "mean_messages = train.messages.mean()\n",
    "three_sigma_range_messages = (mean_messages - 3 * std_messages, mean_messages + 3 * std_messages)\n",
    "\n",
    "print('Messages standard deviation: {:.2f}'.format(std_messages))\n",
    "print('Messages three sigma range: [{:.2f}, {:.2f}]'.format(*three_sigma_range_messages))"
   ]
  },
  {
   "cell_type": "code",
   "execution_count": 16,
   "metadata": {},
   "outputs": [
    {
     "data": {
      "image/png": "[encoded data removed]",
      "text/plain": [
       "<Figure size 640x480 with 1 Axes>"
      ]
     },
     "metadata": {},
     "output_type": "display_data"
    }
   ],
   "source": [
    "train.messages.hist()\n",
    "plt.axvline(three_sigma_range_messages[0], color='r', linestyle='--')\n",
    "plt.axvline(three_sigma_range_messages[1], color='r', linestyle='--')\n",
    "plt.title('Messages distribution')\n",
    "plt.show()"
   ]
  },
  {
   "cell_type": "markdown",
   "metadata": {},
   "source": [
    "<div style=\"background: DeepSkyBlue; padding: 2rem;\">\n",
    "    Although the values on the right are considered outliers due to three-sigma-rule, we will classify them as true outliers because they follow the poisson distribution.\n",
    "</div>"
   ]
  },
  {
   "cell_type": "code",
   "execution_count": 17,
   "metadata": {},
   "outputs": [
    {
     "name": "stdout",
     "output_type": "stream",
     "text": [
      "Messages standard deviation: 7569.91\n",
      "Messages three sigma range: [-5544.17, 39875.32]\n"
     ]
    }
   ],
   "source": [
    "std_mb = train.mb_used.std()\n",
    "mean_mb = train.mb_used.mean()\n",
    "three_sigma_range_mb = (mean_mb - 3 * std_mb, mean_mb + 3 * std_mb)\n",
    "\n",
    "print('Messages standard deviation: {:.2f}'.format(std_mb))\n",
    "print('Messages three sigma range: [{:.2f}, {:.2f}]'.format(*three_sigma_range_mb))"
   ]
  },
  {
   "cell_type": "code",
   "execution_count": 18,
   "metadata": {},
   "outputs": [
    {
     "data": {
      "image/png": "[encoded data removed]",
      "text/plain": [
       "<Figure size 640x480 with 1 Axes>"
      ]
     },
     "metadata": {},
     "output_type": "display_data"
    }
   ],
   "source": [
    "train.mb_used.hist()\n",
    "plt.axvline(three_sigma_range_mb[0], color='r', linestyle='--')\n",
    "plt.axvline(three_sigma_range_mb[1], color='r', linestyle='--')\n",
    "plt.title('MB used distribution')\n",
    "plt.show()"
   ]
  },
  {
   "cell_type": "markdown",
   "metadata": {},
   "source": [
    "<div style=\"background: DeepSkyBlue; padding: 2rem;\">\n",
    "    Although the values on the right are considered outliers due to three-sigma-rule, we will classify them as true outliers because they follow the normal distribution.\n",
    "</div>"
   ]
  },
  {
   "cell_type": "markdown",
   "metadata": {},
   "source": [
    "<div style=\"background: CornflowerBlue; padding: 2rem;\">\n",
    "    There seems to be no datatype or outliers preprocessing we need to do, however we will still use standard scaler.\n",
    "</div>"
   ]
  },
  {
   "cell_type": "code",
   "execution_count": 19,
   "metadata": {},
   "outputs": [],
   "source": [
    "scaler = StandardScaler()"
   ]
  },
  {
   "cell_type": "code",
   "execution_count": 20,
   "metadata": {},
   "outputs": [],
   "source": [
    "X_train = scaler.fit_transform(train.drop(columns=['is_ultra']))"
   ]
  },
  {
   "cell_type": "code",
   "execution_count": 21,
   "metadata": {},
   "outputs": [],
   "source": [
    "y_train = train.is_ultra"
   ]
  },
  {
   "cell_type": "code",
   "execution_count": 22,
   "metadata": {},
   "outputs": [],
   "source": [
    "X_valid = scaler.transform(valid.drop(columns=['is_ultra']))"
   ]
  },
  {
   "cell_type": "code",
   "execution_count": 23,
   "metadata": {},
   "outputs": [],
   "source": [
    "y_valid = valid.is_ultra"
   ]
  },
  {
   "cell_type": "code",
   "execution_count": 24,
   "metadata": {},
   "outputs": [],
   "source": [
    "X_test = scaler.transform(test.drop(columns=['is_ultra']))"
   ]
  },
  {
   "cell_type": "code",
   "execution_count": 25,
   "metadata": {},
   "outputs": [],
   "source": [
    "y_test = test.is_ultra"
   ]
  },
  {
   "cell_type": "markdown",
   "metadata": {},
   "source": [
    "# Model Selection"
   ]
  },
  {
   "cell_type": "markdown",
   "metadata": {},
   "source": [
    "- Logistic Regression\n",
    "- Decision Tree Classifier\n",
    "- Random Forest Classifier\n",
    "- Hyper Parameter Tunning"
   ]
  },
  {
   "cell_type": "code",
   "execution_count": 26,
   "metadata": {},
   "outputs": [
    {
     "name": "stdout",
     "output_type": "stream",
     "text": [
      "Logistic Regression validation accuracy: 0.7241\n"
     ]
    },
    {
     "data": {
      "text/plain": [
       "<Axes: >"
      ]
     },
     "execution_count": 26,
     "metadata": {},
     "output_type": "execute_result"
    },
    {
     "data": {
      "image/png": "[encoded data removed]",
      "text/plain": [
       "<Figure size 300x100 with 2 Axes>"
      ]
     },
     "metadata": {},
     "output_type": "display_data"
    }
   ],
   "source": [
    "model_lr = LogisticRegression()\n",
    "model_lr.fit(X_train, y_train)\n",
    "z_valid = model_lr.predict(X_valid)\n",
    "model_lr_acc = accuracy_score(y_valid, z_valid)\n",
    "print('Logistic Regression validation accuracy: {:.4f}'.format(model_lr_acc))\n",
    "model_lr_cf_matrix = confusion_matrix(y_valid, z_valid)\n",
    "sns.set(rc={'figure.figsize':(3,1)})\n",
    "sns.heatmap(model_lr_cf_matrix, annot=True)"
   ]
  },
  {
   "cell_type": "code",
   "execution_count": 27,
   "metadata": {},
   "outputs": [
    {
     "name": "stdout",
     "output_type": "stream",
     "text": [
      "Decision Tree Classifier validation accuracy: 0.7365\n"
     ]
    },
    {
     "data": {
      "text/plain": [
       "<Axes: >"
      ]
     },
     "execution_count": 27,
     "metadata": {},
     "output_type": "execute_result"
    },
    {
     "data": {
      "image/png": "[encoded data removed]",
      "text/plain": [
       "<Figure size 300x100 with 2 Axes>"
      ]
     },
     "metadata": {},
     "output_type": "display_data"
    }
   ],
   "source": [
    "model_dtc = DecisionTreeClassifier()\n",
    "model_dtc.fit(X_train, y_train)\n",
    "z_valid = model_dtc.predict(X_valid)\n",
    "model_dtc_acc = accuracy_score(y_valid, z_valid)\n",
    "print('Decision Tree Classifier validation accuracy: {:.4f}'.format(model_dtc_acc))\n",
    "model_dtc_cf_matrix = confusion_matrix(y_valid, z_valid)\n",
    "sns.set(rc={'figure.figsize':(3,1)})\n",
    "sns.heatmap(model_dtc_cf_matrix, annot=True)"
   ]
  },
  {
   "cell_type": "code",
   "execution_count": 28,
   "metadata": {},
   "outputs": [
    {
     "name": "stdout",
     "output_type": "stream",
     "text": [
      "Random Forest Classifier validation accuracy: 0.8008\n"
     ]
    },
    {
     "data": {
      "text/plain": [
       "<Axes: >"
      ]
     },
     "execution_count": 28,
     "metadata": {},
     "output_type": "execute_result"
    },
    {
     "data": {
      "image/png": "[encoded data removed]",
      "text/plain": [
       "<Figure size 300x100 with 2 Axes>"
      ]
     },
     "metadata": {},
     "output_type": "display_data"
    }
   ],
   "source": [
    "model_rfc = RandomForestClassifier()\n",
    "model_rfc.fit(X_train, y_train)\n",
    "z_valid = model_rfc.predict(X_valid)\n",
    "model_rfc_acc = accuracy_score(y_valid, z_valid)\n",
    "print('Random Forest Classifier validation accuracy: {:.4f}'.format(model_rfc_acc))\n",
    "model_rfc_cf_matrix = confusion_matrix(y_valid, z_valid)\n",
    "sns.set(rc={'figure.figsize':(3,1)})\n",
    "sns.heatmap(model_rfc_cf_matrix, annot=True)"
   ]
  },
  {
   "cell_type": "code",
   "execution_count": 29,
   "metadata": {},
   "outputs": [
    {
     "name": "stdout",
     "output_type": "stream",
     "text": [
      "Hypertunned Random Forest Classifier accuracy: 0.8045\n",
      "Best params {'max_depth': 8, 'n_estimators': 8}\n"
     ]
    }
   ],
   "source": [
    "params = {'n_estimators':[4, 8, 16, 32], 'max_depth':[1, 2, 4, 8, 16]}\n",
    "gc_rfc = GridSearchCV(RandomForestClassifier(), param_grid=params, scoring='accuracy')\n",
    "gc_rfc.fit(np.vstack((X_train, X_valid)), np.hstack((y_train, y_valid)))\n",
    "print('Hypertunned Random Forest Classifier accuracy: {:.4f}'.format(gc_rfc.best_score_))\n",
    "print('Best params {}'.format(gc_rfc.best_params_))"
   ]
  },
  {
   "cell_type": "markdown",
   "metadata": {},
   "source": [
    "<div style=\"background: CornflowerBlue; padding: 2rem;\">\n",
    "    GridSearch helped us find the best parameters for Random Forest Classifier and get the highest accuracy score. We will use that model.\n",
    "</div>"
   ]
  },
  {
   "cell_type": "markdown",
   "metadata": {},
   "source": [
    "# Model Testing"
   ]
  },
  {
   "cell_type": "code",
   "execution_count": 30,
   "metadata": {},
   "outputs": [
    {
     "name": "stdout",
     "output_type": "stream",
     "text": [
      "Random Forest Classifier test accuracy: 0.8261\n"
     ]
    },
    {
     "data": {
      "text/plain": [
       "<Axes: >"
      ]
     },
     "execution_count": 30,
     "metadata": {},
     "output_type": "execute_result"
    },
    {
     "data": {
      "image/png": "[encoded data removed]",
      "text/plain": [
       "<Figure size 300x100 with 2 Axes>"
      ]
     },
     "metadata": {},
     "output_type": "display_data"
    }
   ],
   "source": [
    "z_test = gc_rfc.best_estimator_.predict(X_test)\n",
    "model_rfc_acc = accuracy_score(y_test, z_test)\n",
    "print('Random Forest Classifier test accuracy: {:.4f}'.format(model_rfc_acc))\n",
    "model_rfc_cf_matrix = confusion_matrix(y_test, z_test)\n",
    "sns.set(rc={'figure.figsize':(3,1)})\n",
    "sns.heatmap(model_rfc_cf_matrix, annot=True)"
   ]
  },
  {
   "cell_type": "markdown",
   "metadata": {},
   "source": [
    "# Results"
   ]
  },
  {
   "cell_type": "markdown",
   "metadata": {},
   "source": [
    "- Inspected the data\n",
    "- Preprocessed the data\n",
    "- Explored different ML models and found the best one based on accuracy\n",
    "- Tested out the model and got a good accuracy score"
   ]
  }
 ],
 "metadata": {
  "kernelspec": {
   "display_name": "Python 3 (ipykernel)",
   "language": "python",
   "name": "python3"
  },
  "language_info": {
   "codemirror_mode": {
    "name": "ipython",
    "version": 3
   },
   "file_extension": ".py",
   "mimetype": "text/x-python",
   "name": "python",
   "nbconvert_exporter": "python",
   "pygments_lexer": "ipython3",
   "version": "3.10.10"
  },
  "vscode": {
   "interpreter": {
    "hash": "31f2aee4e71d21fbe5cf8b01ff0e069b9275f58929596ceb00d14d90e3e16cd6"
   }
  }
 },
 "nbformat": 4,
 "nbformat_minor": 2
}
