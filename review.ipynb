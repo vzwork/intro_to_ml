{
 "cells": [
  {
   "cell_type": "markdown",
   "metadata": {},
   "source": [
    "<div class=\"alert alert-info\">\n",
    "<font size=\"5\"><b>Комментарий ревьюера</b></font>\n",
    "\n",
    "Привет Владислав! Меня зовут Марат, и я буду твоим ревьюером. Спешу сообщить что все ключевые этапы в работе выполнены,  с задачей тебе удалось справиться. По поводу обращения - в IT сфере принято общаться на «ты» :) Но, если привычней на «вы», дай знать. Как ревьюера моя задача помочь тебе в развитии, дав хорошие советы. Я внимательно посмотрю твой код, ознакомлюсь с твоими выводами и оставлю комментарии. Где то могу предложить небольшие исправление в коде, но ненавязчиво. Где потребуются уточнения, я оставлю много наводящих вопросов. Они помогут тебя с поиском верного решения.\n",
    "\n",
    "Все мои комментарии размечены по цветам, для лучшего восприятия. \n",
    "    \n",
    "<div class=\"alert alert-success\">Зеленым цветом и словом «Успех» отмечены особо удачные и элегантные решения, которыми ты можешь гордиться. </div>\n",
    "        \n",
    "<div class=\"alert alert-warning\">Желтым и значком словом «Совет», помечены решения у которых есть альтернативные решения, более оптимальные. Ты можешь найти их сразу и доработать проект, или отложить это на потом, для будущих проектах. Проект будет принят и без их доработки. </div>\n",
    "        \n",
    "<div class=\"alert alert-danger\"> Красным цветом и значком словом «Ошибка» помечу твои решения, на которые стоит обратить внимание прежде всего. После их доработки проект будет принят. </div>\n",
    "        \n",
    "Залог успеха - работа сообща, взаимное уважение и работа в диалоге. Поэтому, помечай свои ответные комментарии на мои реплики заметным цветом или курсивом, так мне будет легче их отслеживать. Пожалуйста, не изменяй и не удаляй мои комментарии. Все это поможет выполнить повторную проверку быстрей.\n",
    "\n",
    "</div>"
   ]
  },
  {
   "cell_type": "markdown",
   "metadata": {},
   "source": [
    "# Описание проэкта"
   ]
  },
  {
   "cell_type": "markdown",
   "metadata": {},
   "source": [
    "Компания <<Мегалайн>> имеет две группы пользователей. Группа каторая пользуется новыми тарифами 'Ultra' и 'Smart', также группа которая пользуется архивными тарифами. Компания хочет предложить последней группе новые тарифы, и они хотят чтобы предложенный тариф подходил пользователем. Мы построим модель которая анализирует повадки или нужды пользователя и предлагает подходящий тариф. Сделаем это с помощью данных от пользователей новых тарифов."
   ]
  },
  {
   "cell_type": "markdown",
   "metadata": {},
   "source": [
    "# План"
   ]
  },
  {
   "cell_type": "markdown",
   "metadata": {},
   "source": [
    "1. Изучение данных\n",
    "2. Деление данных на обучающие, валидационные и тестовые выборки\n",
    "3. Тестирование разных моделей, и гиперпараметров. Короткий вывод после каждого исследования\n",
    "4. Проверить качество модели на тестовой выборке\n",
    "5. Проверка на вменяемость"
   ]
  },
  {
   "cell_type": "markdown",
   "metadata": {},
   "source": [
    "<div class=\"alert alert-warning\">\n",
    "<font size=\"5\"><b>Комментарий ревьюера</b></font>\n",
    "\n",
    "Совет:\n",
    "\n",
    "    \n",
    "Вступление в работу очень важно, так человек, который смотрит твой проект (и на работе в том числе) будет сразу введен в курс дела. План это хорошо, но где описание проекта?\n",
    "\n",
    "\n",
    "\n",
    "\n",
    "\n",
    "</div>"
   ]
  },
  {
   "cell_type": "markdown",
   "metadata": {},
   "source": [
    "<div style=\"background:magenta; padding:1rem;\">\n",
    "    Спасибо, исправленно выше!\n",
    "</div>"
   ]
  },
  {
   "cell_type": "markdown",
   "metadata": {},
   "source": [
    "<div class=\"alert alert-success\">\n",
    "<font size=\"5\"><b>Комментарий ревьюераV2</b></font>\n",
    "\n",
    "Успех:\n",
    "\n",
    "👍\n",
    "</div>"
   ]
  },
  {
   "cell_type": "markdown",
   "metadata": {},
   "source": [
    "# Изучение данных"
   ]
  },
  {
   "cell_type": "code",
   "execution_count": 1,
   "metadata": {},
   "outputs": [],
   "source": [
    "import pandas as pd\n",
    "import numpy as np\n",
    "import matplotlib.pyplot as plt\n",
    "import seaborn as sns\n",
    "\n",
    "from sklearn.tree import DecisionTreeClassifier\n",
    "from sklearn.ensemble import RandomForestClassifier\n",
    "from sklearn.linear_model import LogisticRegression\n",
    "from sklearn.metrics import accuracy_score\n",
    "from sklearn.model_selection import train_test_split\n",
    "\n",
    "import time\n",
    "\n",
    "import os"
   ]
  },
  {
   "cell_type": "markdown",
   "metadata": {},
   "source": [
    "\n",
    "<div class=\"alert alert-success\">\n",
    "<font size=\"5\"><b>Комментарий ревьюера</b></font>\n",
    "\n",
    "Успех:\n",
    "\n",
    "👍 Собираем все импорты в верхней части, чтобы легче было ориентироваться и добавлять новые по необходимости.\n",
    "\n",
    "</div>\n",
    "\n",
    "\n"
   ]
  },
  {
   "cell_type": "code",
   "execution_count": 2,
   "metadata": {},
   "outputs": [],
   "source": [
    "local_path_df_user_behavior = './datasets/users_behavior.csv'\n",
    "# web_path_df_user_behavior = '/datasets/user_behavior.csv'\n",
    "# КОД РЕВЬЮЕРА\n",
    "web_path_df_user_behavior = '/datasets/users_behavior.csv'"
   ]
  },
  {
   "cell_type": "code",
   "execution_count": 3,
   "metadata": {},
   "outputs": [],
   "source": [
    "if os.path.exists(local_path_df_user_behavior):\n",
    "  df = pd.read_csv(local_path_df_user_behavior)\n",
    "elif os.path.exists(web_path_df_user_behavior):\n",
    "  df = pd.read_csv(web_path_df_user_behavior)"
   ]
  },
  {
   "cell_type": "markdown",
   "metadata": {},
   "source": [
    "<div class=\"alert alert-warning\">\n",
    "<font size=\"5\"><b>Комментарий ревьюера</b></font>\n",
    "\n",
    "Совет: \n",
    "    \n",
    "Мне пришлось подправить твой код чтобы запустилось. Для некоторых особо строгих ревьюеров это основание завернуть работу без проверки, так что будь внимательней в следующий раз )\n",
    "    \n",
    "Совет - используй конструкцию try except:    \n",
    "  \n",
    "    try:\n",
    "        df = pd.read_csv()\n",
    "    except:\n",
    "        df = pd.read_csv()\n",
    "</div>"
   ]
  },
  {
   "cell_type": "markdown",
   "metadata": {},
   "source": [
    "<div style=\"background:magenta; padding:1rem;\">\n",
    "    Спасибо, предидущие ревьюеры мне рекомендовали \"os.path\" метод. Не уверен в чем была ошибка. Предпологаю, что в принципе \"try/excpet\" метод надежнее!\n",
    "</div>"
   ]
  },
  {
   "cell_type": "markdown",
   "metadata": {},
   "source": [
    "<div class=\"alert alert-success\">\n",
    "<font size=\"5\"><b>Комментарий ревьюераV2</b></font>\n",
    "\n",
    "Успех:\n",
    "    \n",
    "    \n",
    "Ты букву потерял в названии имени файла. Можно и if/else применять с os.path.exists, разница не принципиальна\n",
    "\n",
    "</div>"
   ]
  },
  {
   "cell_type": "code",
   "execution_count": 4,
   "metadata": {},
   "outputs": [
    {
     "name": "stdout",
     "output_type": "stream",
     "text": [
      "<class 'pandas.core.frame.DataFrame'>\n",
      "RangeIndex: 3214 entries, 0 to 3213\n",
      "Data columns (total 5 columns):\n",
      " #   Column    Non-Null Count  Dtype  \n",
      "---  ------    --------------  -----  \n",
      " 0   calls     3214 non-null   float64\n",
      " 1   minutes   3214 non-null   float64\n",
      " 2   messages  3214 non-null   float64\n",
      " 3   mb_used   3214 non-null   float64\n",
      " 4   is_ultra  3214 non-null   int64  \n",
      "dtypes: float64(4), int64(1)\n",
      "memory usage: 125.7 KB\n"
     ]
    }
   ],
   "source": [
    "df.info()"
   ]
  },
  {
   "cell_type": "code",
   "execution_count": 5,
   "metadata": {},
   "outputs": [
    {
     "data": {
      "text/html": [
       "<div>\n",
       "<style scoped>\n",
       "    .dataframe tbody tr th:only-of-type {\n",
       "        vertical-align: middle;\n",
       "    }\n",
       "\n",
       "    .dataframe tbody tr th {\n",
       "        vertical-align: top;\n",
       "    }\n",
       "\n",
       "    .dataframe thead th {\n",
       "        text-align: right;\n",
       "    }\n",
       "</style>\n",
       "<table border=\"1\" class=\"dataframe\">\n",
       "  <thead>\n",
       "    <tr style=\"text-align: right;\">\n",
       "      <th></th>\n",
       "      <th>calls</th>\n",
       "      <th>minutes</th>\n",
       "      <th>messages</th>\n",
       "      <th>mb_used</th>\n",
       "      <th>is_ultra</th>\n",
       "    </tr>\n",
       "  </thead>\n",
       "  <tbody>\n",
       "    <tr>\n",
       "      <th>0</th>\n",
       "      <td>40.0</td>\n",
       "      <td>311.90</td>\n",
       "      <td>83.0</td>\n",
       "      <td>19915.42</td>\n",
       "      <td>0</td>\n",
       "    </tr>\n",
       "    <tr>\n",
       "      <th>1</th>\n",
       "      <td>85.0</td>\n",
       "      <td>516.75</td>\n",
       "      <td>56.0</td>\n",
       "      <td>22696.96</td>\n",
       "      <td>0</td>\n",
       "    </tr>\n",
       "    <tr>\n",
       "      <th>2</th>\n",
       "      <td>77.0</td>\n",
       "      <td>467.66</td>\n",
       "      <td>86.0</td>\n",
       "      <td>21060.45</td>\n",
       "      <td>0</td>\n",
       "    </tr>\n",
       "    <tr>\n",
       "      <th>3</th>\n",
       "      <td>106.0</td>\n",
       "      <td>745.53</td>\n",
       "      <td>81.0</td>\n",
       "      <td>8437.39</td>\n",
       "      <td>1</td>\n",
       "    </tr>\n",
       "    <tr>\n",
       "      <th>4</th>\n",
       "      <td>66.0</td>\n",
       "      <td>418.74</td>\n",
       "      <td>1.0</td>\n",
       "      <td>14502.75</td>\n",
       "      <td>0</td>\n",
       "    </tr>\n",
       "  </tbody>\n",
       "</table>\n",
       "</div>"
      ],
      "text/plain": [
       "   calls  minutes  messages   mb_used  is_ultra\n",
       "0   40.0   311.90      83.0  19915.42         0\n",
       "1   85.0   516.75      56.0  22696.96         0\n",
       "2   77.0   467.66      86.0  21060.45         0\n",
       "3  106.0   745.53      81.0   8437.39         1\n",
       "4   66.0   418.74       1.0  14502.75         0"
      ]
     },
     "execution_count": 5,
     "metadata": {},
     "output_type": "execute_result"
    }
   ],
   "source": [
    "df.head()"
   ]
  },
  {
   "cell_type": "code",
   "execution_count": 6,
   "metadata": {},
   "outputs": [
    {
     "data": {
      "image/png": "[encoded data removed]",
      "text/plain": [
       "<Figure size 432x288 with 1 Axes>"
      ]
     },
     "metadata": {
      "needs_background": "light"
     },
     "output_type": "display_data"
    }
   ],
   "source": [
    "df['calls'].hist(bins=20)\n",
    "plt.show()"
   ]
  },
  {
   "cell_type": "code",
   "execution_count": 7,
   "metadata": {},
   "outputs": [
    {
     "data": {
      "image/png": "[encoded data removed]",
      "text/plain": [
       "<Figure size 432x288 with 1 Axes>"
      ]
     },
     "metadata": {
      "needs_background": "light"
     },
     "output_type": "display_data"
    }
   ],
   "source": [
    "df['minutes'].hist(bins=20)\n",
    "plt.show()"
   ]
  },
  {
   "cell_type": "code",
   "execution_count": 8,
   "metadata": {},
   "outputs": [
    {
     "data": {
      "image/png": "[encoded data removed]",
      "text/plain": [
       "<Figure size 432x288 with 1 Axes>"
      ]
     },
     "metadata": {
      "needs_background": "light"
     },
     "output_type": "display_data"
    }
   ],
   "source": [
    "df['messages'].hist(bins=20)\n",
    "plt.show()"
   ]
  },
  {
   "cell_type": "code",
   "execution_count": 9,
   "metadata": {},
   "outputs": [
    {
     "data": {
      "image/png": "[encoded data removed]",
      "text/plain": [
       "<Figure size 432x288 with 1 Axes>"
      ]
     },
     "metadata": {
      "needs_background": "light"
     },
     "output_type": "display_data"
    }
   ],
   "source": [
    "df['mb_used'].hist(bins=20)\n",
    "plt.show()"
   ]
  },
  {
   "cell_type": "markdown",
   "metadata": {},
   "source": [
    "В описании проэкта написанно, что не надо очищать данные, в графиках сверху видно что есть данные каторые сильно повлияют на 'std' но ме будем верить данным"
   ]
  },
  {
   "cell_type": "markdown",
   "metadata": {},
   "source": [
    "<div class=\"alert alert-success\">\n",
    "<font size=\"5\"><b>Комментарий ревьюера</b></font>\n",
    "\n",
    "Успех:\n",
    "\n",
    "👍 Данные изучены. Небольшой EDA не помешает, так как это аналитический проект. \n",
    "\n",
    "\n",
    "\n",
    "<div class=\"alert alert-warning\">\n",
    "\n",
    "\n",
    "\n",
    "Совет: \n",
    "\n",
    "Стоило еще проверить датасет на сбалансированность таргетов, это бы дало информацию для train_test_split и помогло решить бонусное задание сразу. \n",
    "\n",
    "\n",
    "\n",
    "\n",
    "</div>\n"
   ]
  },
  {
   "cell_type": "markdown",
   "metadata": {},
   "source": [
    "<div style=\"background:magenta; padding:1rem;\">\n",
    "    Сбалансированность таргетов, это соотношение информации планов \"Ultra\" и \"Smart\"? Чем ближе к 50/50 тем лучше?\n",
    "</div>"
   ]
  },
  {
   "cell_type": "markdown",
   "metadata": {},
   "source": [
    "<div class=\"alert alert-success\">\n",
    "<font size=\"5\"><b>Комментарий ревьюераV2</b></font>\n",
    "\n",
    "Успех:\n",
    "\n",
    "Для некоторых моделей несбалансированность проблема - качество падает. На следующем проекте как раз этим озаботитесь )\n",
    "</div>"
   ]
  },
  {
   "cell_type": "code",
   "execution_count": 10,
   "metadata": {},
   "outputs": [
    {
     "name": "stdout",
     "output_type": "stream",
     "text": [
      "Ratio of ultra plans to smart: 0.306\n"
     ]
    }
   ],
   "source": [
    "print(\"Ratio of ultra plans to smart: {:.3f}\".format(df['is_ultra'].sum()/df['is_ultra'].size))"
   ]
  },
  {
   "cell_type": "markdown",
   "metadata": {},
   "source": [
    "<div style=\"background:magenta; padding:1rem;\">\n",
    "    Сбалансированность таргетов могла бы быть получше 🤷‍♂️\n",
    "</div>"
   ]
  },
  {
   "cell_type": "markdown",
   "metadata": {},
   "source": [
    "# Деление данных на обучающие, валидационные и тестовые выборки"
   ]
  },
  {
   "cell_type": "code",
   "execution_count": 11,
   "metadata": {},
   "outputs": [],
   "source": [
    "features = df.drop(['is_ultra'], axis=1)\n",
    "target = df['is_ultra']\n",
    "\n",
    "features_train, features_test, target_train, target_test  = train_test_split(\n",
    "  features, target, test_size=0.2, random_state=12345)"
   ]
  },
  {
   "cell_type": "code",
   "execution_count": 12,
   "metadata": {},
   "outputs": [],
   "source": [
    "features_train, features_valid, target_train, target_valid = train_test_split(\n",
    "  features_train, target_train, test_size=0.25, random_state=12345)"
   ]
  },
  {
   "cell_type": "code",
   "execution_count": 13,
   "metadata": {},
   "outputs": [],
   "source": [
    "# проверка на пересечение\n",
    "\n",
    "# display(set(features_train.index) & set(features_test.index), set(features_test.index) & set(features_valid.index))\n",
    "# display(features_train.shape, features_test.shape, features_valid.shape)"
   ]
  },
  {
   "cell_type": "markdown",
   "metadata": {},
   "source": [
    "<div class=\"alert alert-danger\">\n",
    "<font size=\"5\"><b>Комментарий ревьюера</b></font>\n",
    "\n",
    "Ошибка:\n",
    "\n",
    "\n",
    "- Обрати внимание на 2 сплит, там ошибка, приведшая к тому что одни и те же данные в разных датасетах, и не все данные попали в созданные датасеты.    \n",
    "    \n",
    "- Общепринято разбиение на test и validation так чтобы разница между ними была не больше чем в два раза (и не меньше чем по 10% от общего датасета)  \n",
    "\n",
    "    \n",
    "    \n",
    "<div class=\"alert alert-warning\">\n",
    "\n",
    "\n",
    "\n",
    "Совет: \n",
    "\n",
    "\n",
    "- Если посмотреть на соотношение меток 1 и 0 в таргете, мы увидим дисбаланс, это важно учитывать. Поэтому, на будущее обрати внимание на аргумент stratify, он позволит сохранить изначальное распределение таргетов во всех новых датасетах. \n",
    "\n",
    "\n",
    "- После разбиения лучше перестраховаться и использовать .shape, для контроля за корректностью разбиения (это позволило бы избежать ошибки)\n",
    "\n",
    "<div>"
   ]
  },
  {
   "cell_type": "markdown",
   "metadata": {},
   "source": [
    "<div style=\"background:magenta; padding:1rem;\">\n",
    "    Да была ошибка. По плану было разделить (train 80/20 test) потом (train 60/20 valid). Вместо features_train я выбрал features_test.\n",
    "</div>\n",
    "<div style=\"background:magenta; padding:1rem;\">\n",
    "    Надо было проверить shape 😅\n",
    "</div>"
   ]
  },
  {
   "cell_type": "markdown",
   "metadata": {},
   "source": [
    "<div class=\"alert alert-success\">\n",
    "<font size=\"5\"><b>Комментарий ревьюераV2</b></font>\n",
    "\n",
    "Успех:\n",
    "\n",
    "Теперь ок. \n",
    "    \n",
    "Я код свой оставил, забыл убрать ))\n",
    "</div>"
   ]
  },
  {
   "cell_type": "markdown",
   "metadata": {},
   "source": [
    "# Тестирование разных моделей, и гиперпараметров. Короткий вывод после каждого исследования"
   ]
  },
  {
   "cell_type": "markdown",
   "metadata": {},
   "source": [
    "### DecisionTreeClassifier"
   ]
  },
  {
   "cell_type": "code",
   "execution_count": 14,
   "metadata": {
    "scrolled": true
   },
   "outputs": [
    {
     "name": "stdout",
     "output_type": "stream",
     "text": [
      "DecisionTreeClassifier depth:  1  precision: 0.73872  time: 0.00482\n",
      "DecisionTreeClassifier depth:  2  precision: 0.75739  time: 0.00417\n",
      "DecisionTreeClassifier depth:  3  precision: 0.76516  time: 0.00448\n",
      "DecisionTreeClassifier depth:  4  precision: 0.76361  time: 0.00509\n",
      "DecisionTreeClassifier depth:  5  precision: 0.75894  time: 0.00566\n",
      "DecisionTreeClassifier depth:  6  precision: 0.75739  time: 0.00587\n",
      "DecisionTreeClassifier depth:  7  precision: 0.77449  time: 0.00647\n",
      "DecisionTreeClassifier depth:  8  precision: 0.76672  time: 0.00691\n",
      "DecisionTreeClassifier depth:  9  precision: 0.76205  time: 0.00708\n",
      "DecisionTreeClassifier depth: 10  precision: 0.77138  time: 0.00780\n",
      "DecisionTreeClassifier depth: 11  precision: 0.75894  time: 0.01566\n",
      "DecisionTreeClassifier depth: 12  precision: 0.75583  time: 0.00847\n",
      "DecisionTreeClassifier depth: 13  precision: 0.74961  time: 0.00896\n",
      "DecisionTreeClassifier depth: 14  precision: 0.75739  time: 0.00907\n",
      "DecisionTreeClassifier depth: 15  precision: 0.75272  time: 0.01264\n"
     ]
    },
    {
     "data": {
      "image/png": "[encoded data removed]",
      "text/plain": [
       "<Figure size 432x288 with 1 Axes>"
      ]
     },
     "metadata": {
      "needs_background": "light"
     },
     "output_type": "display_data"
    }
   ],
   "source": [
    "# лучшая модел после тестов\n",
    "model_DecisionTreeClassifier = None\n",
    "precision_DecisionTreeClassifier = 0\n",
    "tree_depths = range(1, 16)\n",
    "model_precisions = []\n",
    "for tree_depth in tree_depths:\n",
    "    start = time.time()\n",
    "    model = DecisionTreeClassifier(random_state=12345, max_depth=tree_depth)\n",
    "    model.fit(features_train, target_train)\n",
    "    result = model.predict(features_valid)\n",
    "    precision = accuracy_score(target_valid, result)\n",
    "    model_precisions.append(precision)\n",
    "    end = time.time()\n",
    "    if precision > precision_DecisionTreeClassifier:\n",
    "        precision_DecisionTreeClassifier = precision\n",
    "        model_DecisionTreeClassifier = model\n",
    "    print(\"DecisionTreeClassifier depth:{:3d}  precision: {:.5f}  time: {:.5f}\".format(tree_depth, precision, (end-start)))\n",
    "    \n",
    "plt.plot(tree_depths, model_precisions)\n",
    "plt.show()"
   ]
  },
  {
   "cell_type": "markdown",
   "metadata": {},
   "source": [
    "<div class=\"alert alert-success\">\n",
    "<font size=\"5\"><b>Комментарий ревьюера</b></font>\n",
    "\n",
    "Успех:\n",
    " \n",
    "Работа выполнена в соответствии с критериями:    \n",
    "\n",
    " - модель обучена на обучающем наборе\n",
    " - получена оценка качества на валидационном наборе\n",
    " - перебор гиперпараметров осуществляется в цикле\n",
    "\n",
    "\n",
    "\n",
    "<div class=\"alert alert-warning\">\n",
    "\n",
    "\n",
    "Совет как сделать проект лучше: \n",
    "\n",
    "- Посмотреть как при изменении гиперпараметров меняется точность на train и validation,  для этого лучше использовать график (по oX значения гиперпараметра, по oY метрику). Такой способ используют чтобы лучше отследить переобучение\n",
    "\n",
    "\n",
    "</div>"
   ]
  },
  {
   "cell_type": "markdown",
   "metadata": {},
   "source": [
    "- Best precision = 0.77449\n",
    "- Time = 0.00613\n",
    "- DecisionTreeClassifier depth = 7"
   ]
  },
  {
   "cell_type": "markdown",
   "metadata": {},
   "source": [
    "### RandomForestClassifier"
   ]
  },
  {
   "cell_type": "code",
   "execution_count": 15,
   "metadata": {},
   "outputs": [
    {
     "name": "stdout",
     "output_type": "stream",
     "text": [
      "RandomForestClassifier trees: 50 depth: 10 precision: 0.79782  time: 0.14933\n"
     ]
    },
    {
     "data": {
      "image/png": "[encoded data removed]",
      "text/plain": [
       "<Figure size 432x288 with 2 Axes>"
      ]
     },
     "metadata": {
      "needs_background": "light"
     },
     "output_type": "display_data"
    }
   ],
   "source": [
    "# first hyperparameter\n",
    "tree_counts = range(10, 101, 10)\n",
    "# second hyperparameter will be the same as previous in range (1, 11) so we can cover the peak of previous test\n",
    "max_depths = range(1, 11)\n",
    "# best resulsts will be saved\n",
    "model_RandomForestClassifier = None\n",
    "precision_RandomForestClassifier = 0\n",
    "tree_count_RandomForestClassifier = 0\n",
    "depth_RandomForestClassifier = 0\n",
    "time_RandomForestClassifier = 0\n",
    "# the way to see the resulst in 3d space is to build a heatmap\n",
    "precisions = [[0] * len(max_depths)] * len(tree_counts)\n",
    "\n",
    "for tree_count in tree_counts:\n",
    "    for depth in max_depths:\n",
    "        start = time.time()\n",
    "        model = RandomForestClassifier(random_state=12345, n_estimators=tree_count, max_depth=depth)\n",
    "        model.fit(features_train, target_train)\n",
    "        result = model.predict(features_valid)\n",
    "        precision = accuracy_score(target_valid, result)\n",
    "        end = time.time()\n",
    "        \n",
    "        # populating the heatmap\n",
    "        precisions[tree_count//10-1][depth-1] = precision\n",
    "        \n",
    "        if (precision > precision_RandomForestClassifier):\n",
    "            model_RandomForestClassifier = model\n",
    "            precision_RandomForestClassifier = precision\n",
    "            tree_count_RandomForestClassifier = tree_count\n",
    "            depth_RandomForestClassifier = depth\n",
    "            time_RandomForestClassifier = (end - start)\n",
    "\n",
    "sns.heatmap(precisions)\n",
    "\n",
    "print(\"RandomForestClassifier trees:{:3d} depth:{:3d} precision: {:.5f}  time: {:.5f}\"\n",
    "      .format(tree_count_RandomForestClassifier, depth_RandomForestClassifier, precision_RandomForestClassifier, time_RandomForestClassifier))"
   ]
  },
  {
   "cell_type": "markdown",
   "metadata": {},
   "source": [
    "\n",
    "<div class=\"alert alert-success\">\n",
    "<font size=\"5\"><b>Комментарий ревьюера</b></font>\n",
    "\n",
    "Успех:\n",
    "\n",
    "\n",
    "Все верно.\n",
    "\n",
    "<div class=\"alert alert-warning\">\n",
    "\n",
    "Совет (опять же это не обязательно, но рекомендации оставляю):\n",
    "\n",
    "\n",
    "\n",
    "- Можно было сделать похитрее - добавить перебор 2 гиперпараметров в двойном цикле, в результата метрика качества вырастет. \n",
    "    \n",
    "    \n",
    "- А еще можно вместо цикла использовать sklearn-ий встроенный функционал GridSearch. В случаи использования GridSearch, не нужно будет заранее делать валидационную выборку, лучшую метрику автоматом сохранят в best_score_, а лучшую модель (переобученная уже на полном наборе данных) будет хранить в best_estimator_.  Если хочешь можешь сразу попробовать.\n",
    "\n",
    "\n",
    "\n",
    "</div>\n",
    "\n"
   ]
  },
  {
   "cell_type": "markdown",
   "metadata": {},
   "source": [
    "<div style=\"background:magenta; padding:1rem;\">\n",
    "    Наверняка полезный пример, но тогда будет трудно еще посчитать время\n",
    "</div>"
   ]
  },
  {
   "cell_type": "markdown",
   "metadata": {},
   "source": [
    "<div class=\"alert alert-warning\">\n",
    "<font size=\"5\"><b>Комментарий ревьюера</b></font>\n",
    "\n",
    "Совет: \n",
    "\n",
    "Намудрил с графиком и precisions[tree_count//10-1][depth-1]   не сработал. Проще было записать в список, а затем разбить на матрицу нужного размера\n",
    "\n",
    "    \n",
    "Чтобы замерить время используй %%time. Ставишь на самый вверх ячейки с кодом, время выполнения которого хочешь замерить.    \n",
    "</div>"
   ]
  },
  {
   "cell_type": "markdown",
   "metadata": {},
   "source": [
    "### LogisticRegression"
   ]
  },
  {
   "cell_type": "code",
   "execution_count": 23,
   "metadata": {},
   "outputs": [
    {
     "name": "stdout",
     "output_type": "stream",
     "text": [
      "LogisticRegression precision: 0.72628  time: 0.03570\n"
     ]
    }
   ],
   "source": [
    "start = time.time()\n",
    "model_LogisticRegression = LogisticRegression(random_state=12345)\n",
    "model_LogisticRegression.fit(features_train, target_train)\n",
    "result = model_LogisticRegression.predict(features_valid)\n",
    "precision = accuracy_score(target_valid, result)\n",
    "end = time.time()\n",
    "print(\"LogisticRegression precision: {:.5f}  time: {:.5f}\".format(precision, (end-start))) "
   ]
  },
  {
   "cell_type": "markdown",
   "metadata": {},
   "source": [
    "\n",
    "<div class=\"alert alert-warning\">\n",
    "<font size=\"5\"><b>Комментарий ревьюера</b></font>\n",
    "\n",
    "Совет: \n",
    "\n",
    "У логистической регрессии тоже есть свои гиперпараметры, самый известный C - параметр регуляризации. Можно поиграться с: \n",
    "\n",
    "solvers = ['newton-cg', 'lbfgs', 'saga']\n",
    "penalty = ['l1', 'l2']    \n",
    "\n",
    "\n",
    "\n",
    "Но это не приведет к улучшению, так что даже не пробуй  )) Логистическая регрессия все равно окажется худшей. Есть версии почему? \n",
    "</div>\n"
   ]
  },
  {
   "cell_type": "markdown",
   "metadata": {},
   "source": [
    "<div style=\"background:magenta; padding:1rem;\">\n",
    "    Ну вот, после исправления ошибок, логистическая регрессия не такая плохая \n",
    "</div>"
   ]
  },
  {
   "cell_type": "markdown",
   "metadata": {},
   "source": [
    "<div class=\"alert alert-danger\">\n",
    "<font size=\"5\"><b>Комментарий ревьюераV2</b></font>\n",
    "\n",
    "Ошибка:\n",
    "\n",
    "Обучаешь model_LogisticRegression,   а предсказываешь  model. Так что логистическая регрессия все также плоха.\n",
    "    \n",
    "</div>\n"
   ]
  },
  {
   "cell_type": "markdown",
   "metadata": {},
   "source": [
    "<div style=\"background:magenta; padding:1rem;\">\n",
    "    Мне кажется что лес будет лучше тольто потомы что там много 'estimators' и средний результат более акуратный\n",
    "</div>"
   ]
  },
  {
   "cell_type": "markdown",
   "metadata": {},
   "source": [
    "<div class=\"alert alert-danger\">\n",
    "<font size=\"5\"><b>Комментарий ревьюераV3</b></font>\n",
    "\n",
    "Ошибка:\n",
    "\n",
    "    \n",
    "Все та же ошибка. Вот твой код\n",
    "    \n",
    "    start = time.time()\n",
    "    model_LogisticRegression = LogisticRegression(random_state=12345)\n",
    "    model_LogisticRegression.fit(features_train, target_train)\n",
    "    result = model.predict(features_valid)\n",
    "    precision = accuracy_score(target_valid, result)\n",
    "    end = time.time()\n",
    "    print(\"LogisticRegression precision: {:.5f}  time: {:.5f}\".format(precision, (end-start)))     \n",
    "\n",
    "    \n",
    "Как называется твоя обученная модель?! model_LogisticRegression, а какой моделью ты делаешь прогноз? model. А что зэто за модель?  RandomForestClassifier(max_depth=10, random_state=12345)   \n",
    "    \n",
    "    \n",
    "Внизу я написал верный код по которому мы видим что   LogisticRegression дает точность   0,72628. Это худший результат из трех\n",
    "</div>"
   ]
  },
  {
   "cell_type": "code",
   "execution_count": 17,
   "metadata": {},
   "outputs": [
    {
     "name": "stdout",
     "output_type": "stream",
     "text": [
      "LogisticRegression precision: 0.72628  time: 0.04168\n"
     ]
    }
   ],
   "source": [
    "# код ревьюера\n",
    "start = time.time()\n",
    "model_LogisticRegression = LogisticRegression(random_state=12345)\n",
    "model_LogisticRegression.fit(features_train, target_train)\n",
    "result = model_LogisticRegression.predict(features_valid)\n",
    "precision = accuracy_score(target_valid, result)\n",
    "end = time.time()\n",
    "print(\"LogisticRegression precision: {:.5f}  time: {:.5f}\".format(precision, (end-start))) "
   ]
  },
  {
   "cell_type": "markdown",
   "metadata": {},
   "source": [
    "### Описание"
   ]
  },
  {
   "cell_type": "markdown",
   "metadata": {},
   "source": [
    "'RandomForestClassifier' оказался самым точным, но не сильно точнее логической регрессии"
   ]
  },
  {
   "cell_type": "markdown",
   "metadata": {},
   "source": [
    "<div class=\"alert alert-warning\">\n",
    "<font size=\"5\"><b>Комментарий ревьюера</b></font>\n",
    "\n",
    "Совет: \n",
    "\n",
    "На самом деле DT вообще не используют, это слабая модель, а RF одна из лучших в классическом ML. Почему у тебя так получилось?! Ты просто не \"дожал\" RF, можно было подольше поучиться, использовать перебор по большему числу гиперпараметров.  \n",
    "\n",
    "</div>"
   ]
  },
  {
   "cell_type": "markdown",
   "metadata": {},
   "source": [
    "<div style=\"background:magenta; padding:1rem;\">\n",
    "    Честно говоря ожидал лучшего результата от RF, можен надо было проверять все гиперпараметры 😖\n",
    "</div>"
   ]
  },
  {
   "cell_type": "markdown",
   "metadata": {},
   "source": [
    "# Проверить качество модели на тестовой выборке"
   ]
  },
  {
   "cell_type": "markdown",
   "metadata": {},
   "source": [
    "также по скольку 'DecisionTreeClassifier' был быстрее и одинаково точен ме будем использовать его"
   ]
  },
  {
   "cell_type": "code",
   "execution_count": 18,
   "metadata": {},
   "outputs": [
    {
     "name": "stdout",
     "output_type": "stream",
     "text": [
      "The accuracy of the test is 0.799\n"
     ]
    }
   ],
   "source": [
    "test_result = model_RandomForestClassifier.predict(features_test)\n",
    "test_precision = accuracy_score(target_test, test_result)\n",
    "print(\"The accuracy of the test is {:.3f}\".format(test_precision))"
   ]
  },
  {
   "cell_type": "markdown",
   "metadata": {},
   "source": [
    "<div class=\"alert alert-success\">\n",
    "<font size=\"5\"><b>Комментарий ревьюера</b></font>\n",
    "\n",
    "Успех:\n",
    "\n",
    "\n",
    "Все верно, логика моделиирования не нарушена, тут тестируем только лучшую модель отобранную на валидации. Но после внемения изменений результат может измениться.\n",
    "\n",
    "\n",
    "\n",
    "\n",
    "<div class=\"alert alert-warning\">\n",
    "\n",
    "Вопросики и совет:\n",
    "\n",
    "\n",
    "\n",
    "\n",
    "- Как улучшить результат, не мучаясь с кодом?! Смотри - мы сформировали train выборку на которой обучаем модель, а валидационную используем для поиска лучших значений гиперпараметров. Оке, нашли их. Так почему бы теперь модель с выбранными гиперпараметрами не обучить на тренировочной + валидационной выборке?! Чем больше данных, тем лучше модель может обучиться. И эту дообученную модель проверим на тесте. Гаранитий что станет лучше нет, но ML это постоянные эксперименты.\n",
    "    \n",
    "    \n",
    "    \n",
    "- А можешь предложить как нам использовать полученный результат в бизнесе? Как нам на этих прогнозах сделать деньги? \n",
    "\n",
    "\n",
    "\n",
    "\n",
    "- В качестве бонуса можешь вывести еще несколько метрик своей модели - precision, recall, F1 и confussion matrix) Все есть в sklearn)\n",
    "\n",
    "\n",
    "\n",
    "\n",
    "</div>"
   ]
  },
  {
   "cell_type": "markdown",
   "metadata": {},
   "source": [
    "# Проверка на вменяемость"
   ]
  },
  {
   "cell_type": "code",
   "execution_count": 19,
   "metadata": {},
   "outputs": [
    {
     "data": {
      "text/plain": [
       "0.3048211508553655"
      ]
     },
     "execution_count": 19,
     "metadata": {},
     "output_type": "execute_result"
    }
   ],
   "source": [
    "test_target_ratio = target_test.sum() / target_test.size\n",
    "test_target_ratio"
   ]
  },
  {
   "cell_type": "markdown",
   "metadata": {},
   "source": [
    "мы видем что наша модель была более точна чем модель с нулевым 'random_state'"
   ]
  },
  {
   "cell_type": "markdown",
   "metadata": {},
   "source": [
    "<div class=\"alert alert-warning\">\n",
    "<font size=\"5\"><b>Комментарий ревьюера</b></font>\n",
    "\n",
    "Совет: \n",
    "\n",
    "'random_state' - это чтобы побороть рандом при моделировании, разбиении (ведь при каждому запуске кода у нас тот же train_test_split может разбивать данные по разному, поэтому и приравниваем random_state к конретному числу, чтобы каждый раз получить один и тот же результат)\n",
    "\n",
    "</div>"
   ]
  },
  {
   "cell_type": "markdown",
   "metadata": {},
   "source": [
    "<div class=\"alert alert-danger\">\n",
    "<font size=\"5\"><b>Комментарий ревьюера</b></font>\n",
    "\n",
    "Ошибка:\n",
    "\n",
    "Бонусное на то и бонусное, но можешь попробовать его решить с моей подсказкой.    \n",
    "\n",
    "В чем смысл проверки модели на адекватность? Вот смотри - обучили мы какую то модель, которая на test показывает 90% accuraсy. Шикарная модель скажем мы. А если в датасете у нас в метках таргета единичек 99,9% (допустим тренируем на данных где 1 это \"кирпич упал на голову человеку когда он вышел из дома\"), а нулей 0,1% (\"не упал\")?! Все также утверждаем что наша модель шикарная?!\n",
    "\n",
    "\n",
    "При проверке на адекватность модели, рекомендую ознакомиться с Dummy Models, это удобная обертка для константных моделей\n",
    "\n",
    "</div>"
   ]
  },
  {
   "cell_type": "markdown",
   "metadata": {},
   "source": [
    "<div style=\"background:magenta; padding:1rem;\">\n",
    "    Понятно, мне кажется иммено это я и проверил 😎\n",
    "</div>"
   ]
  },
  {
   "cell_type": "markdown",
   "metadata": {},
   "source": [
    "<div class=\"alert alert-danger\">\n",
    "<font size=\"5\"><b>Комментарий ревьюераV2</b></font>\n",
    "\n",
    "Ошибка:\n",
    "\n",
    "Все что я вижу так это ты взял RandomForestClassifier обучил ее и сделал прогноз. Что такое \"random_state\" я писал, это не имеет отношение к случайному предсказанию.  \n",
    "    \n",
    "Подсказываю - что насчет дисбаланса в таргете? У нас нулей в таргете сколько процентов? Если мы будем постоянно предсказывать ноль то какая будет acuuracy такого наивного прогноза?\n",
    "</div>"
   ]
  },
  {
   "cell_type": "markdown",
   "metadata": {},
   "source": [
    "<div style=\"background:magenta; padding:1rem;\">\n",
    "    По моему я проверил процент таргетов еще в анализе данных, \n",
    "</div>"
   ]
  },
  {
   "cell_type": "markdown",
   "metadata": {},
   "source": [
    "<div class=\"alert alert-warning\">\n",
    "<font size=\"5\"><b>Комментарий ревьюераV3</b></font>\n",
    "\n",
    "Совет: \n",
    "\n",
    "Теперь понял. Владислав формулируй свои мысли точней \n",
    "    \n",
    "    \"мы видем что наша модель была более точна чем модель с нулевым 'random_state'\" -------->\n",
    "    \n",
    "    \"мы видим что наша модель была более точна чем модель постоянно предсказывающая самый частый класс\"\n",
    "\n",
    "</div>\n"
   ]
  },
  {
   "cell_type": "markdown",
   "metadata": {},
   "source": [
    "\n",
    "<div class=\"alert alert-info\">\n",
    "<font size=\"5\"><b>Комментарий ревьюера</b></font>\n",
    "\n",
    "\n",
    "Спасибо тебе Владислав за проделанную работу, к сожалению, сейчас я не могу принять твой проект, поэтому мы с тобой еще пообщаемся )\n",
    "\n",
    "Я оставил небольшие советы и вопросики (если есть время и желание можешь воспользоваться/ответить): \n",
    "\n",
    "- обрати внимание на проверку сбалансированности в таргете\n",
    "- добавить график метрики    \n",
    "- посоветовал начинать присматриваться к GreedSearch\n",
    "- как можно улучшить результаты \n",
    "\n",
    "Замечания на будущее:\n",
    "    \n",
    "- Комментарии к коду отсутствуют - коллеги могут не понять хода твоих мыслей. \n",
    "- Было бы замечательно, в конце немножко о данных, работе с ними, моделировании и полученных результатах. Это важно потому что когда проект захочет посмотреть будущий работодатель (или начальник), у него может не быть времени на подробный разбор кода. Вероятнее всего он бегло просмотрит код, а из общего вывода захочет получить представление о всей работе.\n",
    "\n",
    " \n",
    "    \n",
    "Обязательное к исправлению:\n",
    "\n",
    "- обрати внимание на 2 сплит, он привел сразу к нескольким ошибкам (пересечение данных, потеря данных, отход от пропорции 3:1:1)    \n",
    "\n",
    "- к моменту проверки качества прогноза на тесте, приходим с уже одной выбранной моделью с лучшими гиперпараметрами выбранными на валидации\n",
    "\n",
    "- стоит переделать бонусное задание с учётом моего комментария\n",
    "\n",
    " \n",
    " \n",
    "\n",
    "Жду исправлений, для принятия проекта. Если какие то вопросы, то сразу спрашивай ) \n",
    "\n",
    "\n",
    "</div>\n",
    "\n",
    "\n"
   ]
  },
  {
   "cell_type": "markdown",
   "metadata": {},
   "source": [
    "</div>\n",
    "\n",
    "<div class=\"alert alert-info\">\n",
    "<font size=\"5\"><b>Комментарий ревьюераV2</b></font>\n",
    "\n",
    "\n",
    "Со сплитами разобрались, это плюс. Но по прежнему есть красное. Во первых изза невнимательности - обучаешь одну модель, прогноз делаешь по другой. Heatmap не корректно построен (но это был совет, поэтом у не обязательно доводить до ума, хотя желательно). Бонусное ты правильно так и не решил, что такое random_state я писал уже (опять же по желанию, в принципе решения я написал, нужно только оформить его правильно).\n",
    "</div>"
   ]
  },
  {
   "cell_type": "markdown",
   "metadata": {},
   "source": [
    "</div>\n",
    "\n",
    "<div class=\"alert alert-info\">\n",
    "<font size=\"5\"><b>Комментарий ревьюераV3</b></font>\n",
    "\n",
    "\n",
    "Владислав, осталось одно красное, касается описки в имени модели. Испркавляй и пора уже принимать проект )\n",
    "</div>"
   ]
  },
  {
   "cell_type": "markdown",
   "metadata": {},
   "source": [
    "</div>\n",
    "\n",
    "<div class=\"alert alert-info\">\n",
    "<font size=\"5\"><b>Комментарий ревьюераV4</b></font>\n",
    "\n",
    "\n",
    "\n",
    "Владислав, ты исправил красное, отреагировал на многие желтые (что было по желанию), значит стремишься развиваться, а желание и интерес это главное. Надеюсь мои советы и вопросики были полезны и ты узнал что то новое, а проект стал лучше, и метрика улучшилась. \n",
    "    \n",
    "Отличная работа. Желаю успехов в дальнейшей учебе! И будь внимательней, ведь твою работу мог принять уже давно, если бы не описки.\n",
    "    \n",
    "</div>\n",
    "\n"
   ]
  },
  {
   "cell_type": "code",
   "execution_count": null,
   "metadata": {},
   "outputs": [],
   "source": []
  }
 ],
 "metadata": {
  "ExecuteTimeLog": [
   {
    "duration": 1542,
    "start_time": "2022-06-16T03:26:50.283Z"
   },
   {
    "duration": 19,
    "start_time": "2022-06-16T03:26:51.827Z"
   },
   {
    "duration": 55,
    "start_time": "2022-06-16T03:26:51.852Z"
   },
   {
    "duration": 132,
    "start_time": "2022-06-16T03:26:51.908Z"
   },
   {
    "duration": 0,
    "start_time": "2022-06-16T03:26:52.049Z"
   },
   {
    "duration": 0,
    "start_time": "2022-06-16T03:26:52.053Z"
   },
   {
    "duration": 0,
    "start_time": "2022-06-16T03:26:52.054Z"
   },
   {
    "duration": 0,
    "start_time": "2022-06-16T03:26:52.055Z"
   },
   {
    "duration": 0,
    "start_time": "2022-06-16T03:26:52.056Z"
   },
   {
    "duration": 0,
    "start_time": "2022-06-16T03:26:52.058Z"
   },
   {
    "duration": 0,
    "start_time": "2022-06-16T03:26:52.059Z"
   },
   {
    "duration": 0,
    "start_time": "2022-06-16T03:26:52.061Z"
   },
   {
    "duration": 0,
    "start_time": "2022-06-16T03:26:52.063Z"
   },
   {
    "duration": 0,
    "start_time": "2022-06-16T03:26:52.064Z"
   },
   {
    "duration": 0,
    "start_time": "2022-06-16T03:26:52.065Z"
   },
   {
    "duration": 0,
    "start_time": "2022-06-16T03:26:52.067Z"
   },
   {
    "duration": 36,
    "start_time": "2022-06-16T03:27:04.786Z"
   },
   {
    "duration": 14,
    "start_time": "2022-06-16T03:27:06.148Z"
   },
   {
    "duration": 37,
    "start_time": "2022-06-16T03:27:12.857Z"
   },
   {
    "duration": 24,
    "start_time": "2022-06-16T03:27:13.817Z"
   },
   {
    "duration": 4,
    "start_time": "2022-06-16T03:27:19.643Z"
   },
   {
    "duration": 37,
    "start_time": "2022-06-16T03:27:19.851Z"
   },
   {
    "duration": 8,
    "start_time": "2022-06-16T03:27:20.265Z"
   },
   {
    "duration": 4,
    "start_time": "2022-06-16T03:27:23.281Z"
   },
   {
    "duration": 6,
    "start_time": "2022-06-16T03:27:23.825Z"
   },
   {
    "duration": 38,
    "start_time": "2022-06-16T03:27:24.264Z"
   },
   {
    "duration": 9,
    "start_time": "2022-06-16T03:27:24.659Z"
   },
   {
    "duration": 9,
    "start_time": "2022-06-16T03:27:37.666Z"
   },
   {
    "duration": 8,
    "start_time": "2022-06-16T03:28:59.139Z"
   },
   {
    "duration": 22,
    "start_time": "2022-06-16T03:28:59.394Z"
   },
   {
    "duration": 16,
    "start_time": "2022-06-16T03:29:00.647Z"
   },
   {
    "duration": 3,
    "start_time": "2022-06-16T03:30:21.265Z"
   },
   {
    "duration": 143,
    "start_time": "2022-06-16T03:30:21.480Z"
   },
   {
    "duration": 14,
    "start_time": "2022-06-16T03:30:22.705Z"
   },
   {
    "duration": 1368,
    "start_time": "2022-06-16T03:30:35.054Z"
   },
   {
    "duration": 3,
    "start_time": "2022-06-16T03:30:36.427Z"
   },
   {
    "duration": 70,
    "start_time": "2022-06-16T03:30:36.432Z"
   },
   {
    "duration": 14,
    "start_time": "2022-06-16T03:30:36.504Z"
   },
   {
    "duration": 46,
    "start_time": "2022-06-16T03:30:36.520Z"
   },
   {
    "duration": 174,
    "start_time": "2022-06-16T03:30:36.569Z"
   },
   {
    "duration": 158,
    "start_time": "2022-06-16T03:30:36.745Z"
   },
   {
    "duration": 122,
    "start_time": "2022-06-16T03:30:36.904Z"
   },
   {
    "duration": 135,
    "start_time": "2022-06-16T03:30:37.039Z"
   },
   {
    "duration": 5,
    "start_time": "2022-06-16T03:30:37.176Z"
   },
   {
    "duration": 9,
    "start_time": "2022-06-16T03:30:37.183Z"
   },
   {
    "duration": 66,
    "start_time": "2022-06-16T03:30:37.194Z"
   },
   {
    "duration": 313,
    "start_time": "2022-06-16T03:30:37.262Z"
   },
   {
    "duration": 20,
    "start_time": "2022-06-16T03:30:37.578Z"
   },
   {
    "duration": 6,
    "start_time": "2022-06-16T03:30:37.599Z"
   },
   {
    "duration": 25,
    "start_time": "2022-06-16T03:30:37.606Z"
   },
   {
    "duration": 19,
    "start_time": "2022-06-16T03:31:33.322Z"
   },
   {
    "duration": 6,
    "start_time": "2022-06-16T03:31:48.265Z"
   },
   {
    "duration": 9,
    "start_time": "2022-06-16T03:33:57.290Z"
   },
   {
    "duration": 7,
    "start_time": "2022-06-16T03:34:17.095Z"
   },
   {
    "duration": 1387,
    "start_time": "2022-06-16T03:43:43.787Z"
   },
   {
    "duration": 3,
    "start_time": "2022-06-16T03:43:45.176Z"
   },
   {
    "duration": 36,
    "start_time": "2022-06-16T03:43:45.180Z"
   },
   {
    "duration": 12,
    "start_time": "2022-06-16T03:43:45.217Z"
   },
   {
    "duration": 50,
    "start_time": "2022-06-16T03:43:45.231Z"
   },
   {
    "duration": 186,
    "start_time": "2022-06-16T03:43:45.283Z"
   },
   {
    "duration": 141,
    "start_time": "2022-06-16T03:43:45.471Z"
   },
   {
    "duration": 137,
    "start_time": "2022-06-16T03:43:45.614Z"
   },
   {
    "duration": 143,
    "start_time": "2022-06-16T03:43:45.754Z"
   },
   {
    "duration": 5,
    "start_time": "2022-06-16T03:43:45.899Z"
   },
   {
    "duration": 21,
    "start_time": "2022-06-16T03:43:45.906Z"
   },
   {
    "duration": 6,
    "start_time": "2022-06-16T03:43:45.929Z"
   },
   {
    "duration": 55,
    "start_time": "2022-06-16T03:43:45.936Z"
   },
   {
    "duration": 335,
    "start_time": "2022-06-16T03:43:45.993Z"
   },
   {
    "duration": 32,
    "start_time": "2022-06-16T03:43:46.330Z"
   },
   {
    "duration": 7,
    "start_time": "2022-06-16T03:43:46.364Z"
   },
   {
    "duration": 24,
    "start_time": "2022-06-16T03:43:46.373Z"
   },
   {
    "duration": 1941,
    "start_time": "2022-06-16T06:28:58.265Z"
   },
   {
    "duration": 7,
    "start_time": "2022-06-16T06:29:05.091Z"
   },
   {
    "duration": 179,
    "start_time": "2022-06-16T06:29:06.233Z"
   },
   {
    "duration": 21,
    "start_time": "2022-06-16T06:29:09.958Z"
   },
   {
    "duration": 18,
    "start_time": "2022-06-16T06:29:12.021Z"
   },
   {
    "duration": 224,
    "start_time": "2022-06-16T06:29:13.722Z"
   },
   {
    "duration": 254,
    "start_time": "2022-06-16T06:29:15.814Z"
   },
   {
    "duration": 153,
    "start_time": "2022-06-16T06:29:17.493Z"
   },
   {
    "duration": 181,
    "start_time": "2022-06-16T06:29:19.442Z"
   },
   {
    "duration": 14,
    "start_time": "2022-06-16T06:39:05.127Z"
   },
   {
    "duration": 28,
    "start_time": "2022-06-16T06:43:44.654Z"
   },
   {
    "duration": 7,
    "start_time": "2022-06-16T06:43:47.918Z"
   },
   {
    "duration": 10,
    "start_time": "2022-06-16T06:43:48.565Z"
   },
   {
    "duration": 43,
    "start_time": "2022-06-16T06:46:45.441Z"
   },
   {
    "duration": 9,
    "start_time": "2022-06-16T06:46:46.291Z"
   },
   {
    "duration": 11,
    "start_time": "2022-06-16T06:46:46.956Z"
   },
   {
    "duration": 8,
    "start_time": "2022-06-16T06:46:53.543Z"
   },
   {
    "duration": 5,
    "start_time": "2022-06-16T06:46:54.216Z"
   },
   {
    "duration": 7,
    "start_time": "2022-06-16T06:46:54.808Z"
   },
   {
    "duration": 6,
    "start_time": "2022-06-16T06:47:19.219Z"
   },
   {
    "duration": 10,
    "start_time": "2022-06-16T06:47:19.753Z"
   },
   {
    "duration": 5,
    "start_time": "2022-06-16T06:47:20.086Z"
   },
   {
    "duration": 7,
    "start_time": "2022-06-16T06:47:35.749Z"
   },
   {
    "duration": 11,
    "start_time": "2022-06-16T06:47:36.726Z"
   },
   {
    "duration": 15,
    "start_time": "2022-06-16T06:47:36.972Z"
   },
   {
    "duration": 5,
    "start_time": "2022-06-16T06:50:11.909Z"
   },
   {
    "duration": 5,
    "start_time": "2022-06-16T06:50:12.813Z"
   },
   {
    "duration": 7,
    "start_time": "2022-06-16T06:50:13.026Z"
   },
   {
    "duration": 19,
    "start_time": "2022-06-16T06:51:09.061Z"
   },
   {
    "duration": 17,
    "start_time": "2022-06-16T06:51:14.990Z"
   },
   {
    "duration": 9,
    "start_time": "2022-06-16T06:51:43.815Z"
   },
   {
    "duration": 8,
    "start_time": "2022-06-16T06:51:56.710Z"
   },
   {
    "duration": 17,
    "start_time": "2022-06-16T06:52:13.926Z"
   },
   {
    "duration": 7,
    "start_time": "2022-06-16T06:52:22.396Z"
   },
   {
    "duration": 5,
    "start_time": "2022-06-16T06:52:44.975Z"
   },
   {
    "duration": 6,
    "start_time": "2022-06-16T06:52:47.604Z"
   },
   {
    "duration": 18,
    "start_time": "2022-06-16T06:55:02.925Z"
   },
   {
    "duration": 6,
    "start_time": "2022-06-16T06:55:07.080Z"
   },
   {
    "duration": 23,
    "start_time": "2022-06-16T06:55:07.254Z"
   },
   {
    "duration": 7,
    "start_time": "2022-06-16T06:55:07.569Z"
   },
   {
    "duration": 42,
    "start_time": "2022-06-16T12:30:35.000Z"
   },
   {
    "duration": 6,
    "start_time": "2022-06-16T12:30:58.862Z"
   },
   {
    "duration": 1286,
    "start_time": "2022-06-16T12:31:07.961Z"
   },
   {
    "duration": 2,
    "start_time": "2022-06-16T12:31:10.484Z"
   },
   {
    "duration": 57,
    "start_time": "2022-06-16T12:31:10.691Z"
   },
   {
    "duration": 11,
    "start_time": "2022-06-16T12:31:11.251Z"
   },
   {
    "duration": 11,
    "start_time": "2022-06-16T12:31:11.412Z"
   },
   {
    "duration": 117,
    "start_time": "2022-06-16T12:31:11.580Z"
   },
   {
    "duration": 119,
    "start_time": "2022-06-16T12:31:11.753Z"
   },
   {
    "duration": 101,
    "start_time": "2022-06-16T12:31:11.933Z"
   },
   {
    "duration": 119,
    "start_time": "2022-06-16T12:31:12.104Z"
   },
   {
    "duration": 4,
    "start_time": "2022-06-16T12:31:13.481Z"
   },
   {
    "duration": 6,
    "start_time": "2022-06-16T12:31:16.259Z"
   },
   {
    "duration": 4,
    "start_time": "2022-06-16T12:31:17.954Z"
   },
   {
    "duration": 5,
    "start_time": "2022-06-16T12:31:18.420Z"
   },
   {
    "duration": 162,
    "start_time": "2022-06-16T12:31:20.889Z"
   },
   {
    "duration": 257,
    "start_time": "2022-06-16T12:31:43.493Z"
   },
   {
    "duration": 79,
    "start_time": "2022-06-16T12:39:46.864Z"
   },
   {
    "duration": 82,
    "start_time": "2022-06-16T12:51:18.395Z"
   },
   {
    "duration": 14,
    "start_time": "2022-06-16T12:51:43.293Z"
   },
   {
    "duration": 71,
    "start_time": "2022-06-16T12:54:52.399Z"
   },
   {
    "duration": 249,
    "start_time": "2022-06-16T12:56:09.293Z"
   },
   {
    "duration": 246,
    "start_time": "2022-06-16T12:56:59.463Z"
   },
   {
    "duration": 3486,
    "start_time": "2022-06-16T12:57:37.441Z"
   },
   {
    "duration": 3581,
    "start_time": "2022-06-16T12:58:21.582Z"
   },
   {
    "duration": 3503,
    "start_time": "2022-06-16T12:58:52.167Z"
   },
   {
    "duration": 3480,
    "start_time": "2022-06-16T12:59:52.191Z"
   },
   {
    "duration": 11784,
    "start_time": "2022-06-16T13:00:43.192Z"
   },
   {
    "duration": 11914,
    "start_time": "2022-06-16T13:02:12.470Z"
   },
   {
    "duration": 48,
    "start_time": "2022-06-16T13:04:06.745Z"
   },
   {
    "duration": 11688,
    "start_time": "2022-06-16T13:15:08.805Z"
   },
   {
    "duration": 14,
    "start_time": "2022-06-16T13:22:49.118Z"
   },
   {
    "duration": 330,
    "start_time": "2022-06-16T13:23:11.730Z"
   },
   {
    "duration": 1363,
    "start_time": "2022-06-16T16:20:54.509Z"
   },
   {
    "duration": 3,
    "start_time": "2022-06-16T16:20:55.874Z"
   },
   {
    "duration": 113,
    "start_time": "2022-06-16T16:20:55.878Z"
   },
   {
    "duration": 12,
    "start_time": "2022-06-16T16:20:55.993Z"
   },
   {
    "duration": 15,
    "start_time": "2022-06-16T16:20:56.007Z"
   },
   {
    "duration": 128,
    "start_time": "2022-06-16T16:20:56.024Z"
   },
   {
    "duration": 139,
    "start_time": "2022-06-16T16:20:56.153Z"
   },
   {
    "duration": 113,
    "start_time": "2022-06-16T16:20:56.294Z"
   },
   {
    "duration": 132,
    "start_time": "2022-06-16T16:20:56.408Z"
   },
   {
    "duration": 4,
    "start_time": "2022-06-16T16:20:56.541Z"
   },
   {
    "duration": 16,
    "start_time": "2022-06-16T16:20:56.546Z"
   },
   {
    "duration": 7,
    "start_time": "2022-06-16T16:20:56.564Z"
   },
   {
    "duration": 4,
    "start_time": "2022-06-16T16:20:56.573Z"
   },
   {
    "duration": 310,
    "start_time": "2022-06-16T16:20:56.579Z"
   },
   {
    "duration": 13016,
    "start_time": "2022-06-16T16:20:56.890Z"
   },
   {
    "duration": 69,
    "start_time": "2022-06-16T16:21:09.908Z"
   },
   {
    "duration": 14,
    "start_time": "2022-06-16T16:21:09.979Z"
   },
   {
    "duration": 430,
    "start_time": "2022-06-16T16:21:09.995Z"
   },
   {
    "duration": 5,
    "start_time": "2022-06-16T16:22:56.902Z"
   },
   {
    "duration": 6,
    "start_time": "2022-06-16T16:22:59.709Z"
   },
   {
    "duration": 5,
    "start_time": "2022-06-16T16:26:12.229Z"
   },
   {
    "duration": 5,
    "start_time": "2022-06-16T16:26:54.304Z"
   },
   {
    "duration": 17,
    "start_time": "2022-06-16T16:54:56.410Z"
   },
   {
    "duration": 14137,
    "start_time": "2022-06-16T16:57:20.754Z"
   },
   {
    "duration": 14105,
    "start_time": "2022-06-16T17:00:24.305Z"
   },
   {
    "duration": 6,
    "start_time": "2022-06-16T17:03:53.573Z"
   },
   {
    "duration": 6,
    "start_time": "2022-06-16T17:04:06.745Z"
   },
   {
    "duration": 61,
    "start_time": "2022-06-16T17:04:08.663Z"
   },
   {
    "duration": 7,
    "start_time": "2022-06-16T17:04:11.749Z"
   },
   {
    "duration": 9,
    "start_time": "2022-06-16T17:05:17.785Z"
   },
   {
    "duration": 13,
    "start_time": "2022-06-16T17:05:27.672Z"
   },
   {
    "duration": 17,
    "start_time": "2022-06-16T17:05:35.445Z"
   },
   {
    "duration": 46,
    "start_time": "2022-06-16T17:08:03.708Z"
   },
   {
    "duration": 1338,
    "start_time": "2022-06-16T17:22:09.539Z"
   },
   {
    "duration": 2,
    "start_time": "2022-06-16T17:22:10.879Z"
   },
   {
    "duration": 32,
    "start_time": "2022-06-16T17:22:10.883Z"
   },
   {
    "duration": 12,
    "start_time": "2022-06-16T17:22:10.917Z"
   },
   {
    "duration": 16,
    "start_time": "2022-06-16T17:22:10.931Z"
   },
   {
    "duration": 135,
    "start_time": "2022-06-16T17:22:10.949Z"
   },
   {
    "duration": 142,
    "start_time": "2022-06-16T17:22:11.086Z"
   },
   {
    "duration": 123,
    "start_time": "2022-06-16T17:22:11.229Z"
   },
   {
    "duration": 153,
    "start_time": "2022-06-16T17:22:11.354Z"
   },
   {
    "duration": 5,
    "start_time": "2022-06-16T17:22:11.510Z"
   },
   {
    "duration": 16,
    "start_time": "2022-06-16T17:22:11.516Z"
   },
   {
    "duration": 12,
    "start_time": "2022-06-16T17:22:11.533Z"
   },
   {
    "duration": 12,
    "start_time": "2022-06-16T17:22:11.546Z"
   },
   {
    "duration": 330,
    "start_time": "2022-06-16T17:22:11.560Z"
   },
   {
    "duration": 13601,
    "start_time": "2022-06-16T17:22:11.891Z"
   },
   {
    "duration": 53,
    "start_time": "2022-06-16T17:22:25.494Z"
   },
   {
    "duration": 15,
    "start_time": "2022-06-16T17:22:25.559Z"
   },
   {
    "duration": 406,
    "start_time": "2022-06-16T17:22:25.576Z"
   },
   {
    "duration": 46,
    "start_time": "2022-06-17T19:57:38.551Z"
   },
   {
    "duration": 1471,
    "start_time": "2022-06-17T19:57:46.876Z"
   },
   {
    "duration": 3,
    "start_time": "2022-06-17T19:57:48.349Z"
   },
   {
    "duration": 109,
    "start_time": "2022-06-17T19:57:48.354Z"
   },
   {
    "duration": 12,
    "start_time": "2022-06-17T19:57:48.466Z"
   },
   {
    "duration": 17,
    "start_time": "2022-06-17T19:57:48.479Z"
   },
   {
    "duration": 137,
    "start_time": "2022-06-17T19:57:48.498Z"
   },
   {
    "duration": 144,
    "start_time": "2022-06-17T19:57:48.637Z"
   },
   {
    "duration": 131,
    "start_time": "2022-06-17T19:57:48.784Z"
   },
   {
    "duration": 149,
    "start_time": "2022-06-17T19:57:48.922Z"
   },
   {
    "duration": 3,
    "start_time": "2022-06-17T19:57:49.073Z"
   },
   {
    "duration": 8,
    "start_time": "2022-06-17T19:57:49.078Z"
   },
   {
    "duration": 6,
    "start_time": "2022-06-17T19:57:49.088Z"
   },
   {
    "duration": 6,
    "start_time": "2022-06-17T19:57:49.095Z"
   },
   {
    "duration": 357,
    "start_time": "2022-06-17T19:57:49.102Z"
   },
   {
    "duration": 13622,
    "start_time": "2022-06-17T19:57:49.461Z"
   },
   {
    "duration": 69,
    "start_time": "2022-06-17T19:58:03.084Z"
   },
   {
    "duration": 16,
    "start_time": "2022-06-17T19:58:03.156Z"
   },
   {
    "duration": 5,
    "start_time": "2022-06-17T19:58:03.174Z"
   },
   {
    "duration": 1556,
    "start_time": "2022-06-18T06:25:42.362Z"
   },
   {
    "duration": 8,
    "start_time": "2022-06-18T06:25:43.920Z"
   },
   {
    "duration": 126,
    "start_time": "2022-06-18T06:25:43.929Z"
   },
   {
    "duration": 12,
    "start_time": "2022-06-18T06:25:44.058Z"
   },
   {
    "duration": 18,
    "start_time": "2022-06-18T06:25:44.071Z"
   },
   {
    "duration": 137,
    "start_time": "2022-06-18T06:25:44.091Z"
   },
   {
    "duration": 152,
    "start_time": "2022-06-18T06:25:44.230Z"
   },
   {
    "duration": 127,
    "start_time": "2022-06-18T06:25:44.383Z"
   },
   {
    "duration": 153,
    "start_time": "2022-06-18T06:25:44.512Z"
   },
   {
    "duration": 4,
    "start_time": "2022-06-18T06:25:44.668Z"
   },
   {
    "duration": 12,
    "start_time": "2022-06-18T06:25:44.674Z"
   },
   {
    "duration": 10,
    "start_time": "2022-06-18T06:25:44.688Z"
   },
   {
    "duration": 8,
    "start_time": "2022-06-18T06:25:44.699Z"
   },
   {
    "duration": 352,
    "start_time": "2022-06-18T06:25:44.709Z"
   },
   {
    "duration": 13721,
    "start_time": "2022-06-18T06:25:45.063Z"
   },
   {
    "duration": 68,
    "start_time": "2022-06-18T06:25:58.785Z"
   },
   {
    "duration": 16,
    "start_time": "2022-06-18T06:25:58.855Z"
   },
   {
    "duration": 4,
    "start_time": "2022-06-18T06:25:58.872Z"
   },
   {
    "duration": 67,
    "start_time": "2022-06-18T06:26:41.204Z"
   },
   {
    "duration": 5,
    "start_time": "2022-06-18T06:29:00.788Z"
   },
   {
    "duration": 4,
    "start_time": "2022-06-18T06:29:12.627Z"
   },
   {
    "duration": 36,
    "start_time": "2022-06-18T06:30:32.410Z"
   },
   {
    "duration": 1336,
    "start_time": "2022-06-18T06:37:38.690Z"
   },
   {
    "duration": 3,
    "start_time": "2022-06-18T06:37:40.027Z"
   },
   {
    "duration": 116,
    "start_time": "2022-06-18T06:37:40.032Z"
   },
   {
    "duration": 13,
    "start_time": "2022-06-18T06:37:40.151Z"
   },
   {
    "duration": 18,
    "start_time": "2022-06-18T06:37:40.166Z"
   },
   {
    "duration": 152,
    "start_time": "2022-06-18T06:37:40.186Z"
   },
   {
    "duration": 142,
    "start_time": "2022-06-18T06:37:40.340Z"
   },
   {
    "duration": 140,
    "start_time": "2022-06-18T06:37:40.484Z"
   },
   {
    "duration": 138,
    "start_time": "2022-06-18T06:37:40.626Z"
   },
   {
    "duration": 5,
    "start_time": "2022-06-18T06:37:40.767Z"
   },
   {
    "duration": 10,
    "start_time": "2022-06-18T06:37:40.773Z"
   },
   {
    "duration": 18,
    "start_time": "2022-06-18T06:37:40.792Z"
   },
   {
    "duration": 4,
    "start_time": "2022-06-18T06:37:40.812Z"
   },
   {
    "duration": 287,
    "start_time": "2022-06-18T06:37:40.818Z"
   },
   {
    "duration": 13098,
    "start_time": "2022-06-18T06:37:41.106Z"
   },
   {
    "duration": 36,
    "start_time": "2022-06-18T06:37:54.205Z"
   },
   {
    "duration": 45,
    "start_time": "2022-06-18T06:37:54.243Z"
   },
   {
    "duration": 14,
    "start_time": "2022-06-18T06:37:54.290Z"
   },
   {
    "duration": 4,
    "start_time": "2022-06-18T06:37:54.305Z"
   },
   {
    "duration": 39,
    "start_time": "2022-06-18T06:57:41.736Z"
   }
  ],
  "kernelspec": {
   "display_name": "Python 3 (ipykernel)",
   "language": "python",
   "name": "python3"
  },
  "language_info": {
   "codemirror_mode": {
    "name": "ipython",
    "version": 3
   },
   "file_extension": ".py",
   "mimetype": "text/x-python",
   "name": "python",
   "nbconvert_exporter": "python",
   "pygments_lexer": "ipython3",
   "version": "3.10.10"
  },
  "toc": {
   "base_numbering": 1,
   "nav_menu": {},
   "number_sections": true,
   "sideBar": true,
   "skip_h1_title": true,
   "title_cell": "Table of Contents",
   "title_sidebar": "Contents",
   "toc_cell": false,
   "toc_position": {},
   "toc_section_display": true,
   "toc_window_display": false
  },
  "vscode": {
   "interpreter": {
    "hash": "31f2aee4e71d21fbe5cf8b01ff0e069b9275f58929596ceb00d14d90e3e16cd6"
   }
  }
 },
 "nbformat": 4,
 "nbformat_minor": 2
}
